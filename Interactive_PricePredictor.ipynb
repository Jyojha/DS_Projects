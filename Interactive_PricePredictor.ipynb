{
 "cells": [
  {
   "cell_type": "code",
   "execution_count": 1,
   "metadata": {
    "collapsed": true
   },
   "outputs": [],
   "source": [
    "import numpy as np\n",
    "import scipy.stats as stats\n",
    "import seaborn as sns\n",
    "import matplotlib.pyplot as plt\n",
    "import pandas as pd\n",
    "import os.path\n",
    "from sklearn import preprocessing\n",
    "from sklearn.preprocessing import StandardScaler\n",
    "\n",
    "import patsy\n",
    "\n",
    "\n",
    "sns.set_style('whitegrid')\n",
    "\n",
    "%config InlineBackend.figure_format = 'retina'\n",
    "%matplotlib inline"
   ]
  },
  {
   "cell_type": "code",
   "execution_count": 2,
   "metadata": {
    "collapsed": true
   },
   "outputs": [],
   "source": [
    "from sklearn.externals import joblib"
   ]
  },
  {
   "cell_type": "code",
   "execution_count": 3,
   "metadata": {
    "collapsed": false
   },
   "outputs": [],
   "source": [
    "ctest = pd.read_csv('/Users/jyots/Desktop/DS_Projects/airbnb_datasets/Paris_IP.csv')"
   ]
  },
  {
   "cell_type": "code",
   "execution_count": 4,
   "metadata": {
    "collapsed": false
   },
   "outputs": [
    {
     "data": {
      "text/plain": [
       "(41192, 18)"
      ]
     },
     "execution_count": 4,
     "metadata": {},
     "output_type": "execute_result"
    }
   ],
   "source": [
    "ctest.shape"
   ]
  },
  {
   "cell_type": "code",
   "execution_count": 5,
   "metadata": {
    "collapsed": false
   },
   "outputs": [],
   "source": [
    "city_names = [\"Barcelona\", \"Rome\", \"Berlin\", \"Copenhagen\", \"Paris\"]\n",
    "cities = {}\n",
    "\n",
    "dataset_dir = \"/Users/jyots/Desktop/DS_Projects/airbnb_DataSets\"\n",
    "model_dir = \"/Users/jyots/Desktop/DS_Projects/Models\"\n",
    "    \n",
    "for city in city_names:\n",
    "    dataset_path = os.path.join(dataset_dir, \"%s_IP.csv\" % city)\n",
    "    model_path = os.path.join(model_dir, \"enet_%s.pkl\" % city)\n",
    "    \n",
    "    dataset = pd.read_csv(dataset_path)\n",
    "    model = joblib.load(model_path)\n",
    "    \n",
    "    dataset.drop('Unnamed: 0', axis=1, inplace=True)\n",
    "    \n",
    "    cities[city] = (dataset, model)"
   ]
  },
  {
   "cell_type": "code",
   "execution_count": 6,
   "metadata": {
    "collapsed": false
   },
   "outputs": [],
   "source": [
    "#cities"
   ]
  },
  {
   "cell_type": "code",
   "execution_count": 7,
   "metadata": {
    "collapsed": true
   },
   "outputs": [],
   "source": [
    "def preprocess(X, neighborhood, bedroom, bathroom, room_type):\n",
    "    \n",
    "    X1 = X[0:1]\n",
    "    X1.loc[0,:] = 0.\n",
    "    x = X1[[i for i in X1.columns if 'neighborhood' in i]]\n",
    " \n",
    "    tmp = [n for n in x.columns if neighborhood in n]\n",
    "    #print tmp[0]\n",
    "\n",
    "    #print X1.loc[0,tmp[0]]\n",
    "    \n",
    "    X1.loc[0,tmp[0]] = 1.\n",
    "    #print X1.loc[0,tmp[0]]\n",
    "    X1.loc[0,'bathrooms'] = bathroom\n",
    "    X1.loc[0,'bedrooms'] = bedroom\n",
    "    X1.loc[0,'dist_arprt'] = np.mean(X['dist_arprt'][X[tmp[0]] == 1])\n",
    "    X1.loc[0,'host_count'] = np.mean(X['host_count'][X[tmp[0]] == 1])\n",
    "    X1.loc[0,'metrostn_count'] = np.mean(X['metrostn_count'][X[tmp[0]] == 1])\n",
    "    X1.loc[0,'minstay'] = np.mean(X['minstay'][X[tmp[0]] == 1])\n",
    "    X1.loc[0,'overall_satisfaction'] = np.mean(X['overall_satisfaction'][X[tmp[0]] == 1])\n",
    "    X1.loc[0,'rest_count'] = np.mean(X['rest_count'][X[tmp[0]] == 1])\n",
    "    X1.loc[0,'review_count'] = np.mean(X['review_count'][X[tmp[0]] == 1])\n",
    "    X1.loc[0,'reviews'] = np.mean(X['reviews'][X[tmp[0]] == 1])\n",
    "\n",
    "    if room_type == 'Private room':\n",
    "        X1.loc[0,'room_type[T.Private room]'] = 1.\n",
    "    elif room_type == 'Shared room':\n",
    "        X1.loc[0,'room_type[T.Shared room]'] = 1.\n",
    "    elif room_type == 'Entire home/apt':\n",
    "        X1.loc[0,'room_type[T.Private room]'] = 0.\n",
    "        X1.loc[0,'room_type[T.Shared room]'] = 0.\n",
    "    \n",
    "    \n",
    "    \n",
    "    #print X1\n",
    "    return X1\n",
    "\n",
    "\n",
    "    "
   ]
  },
  {
   "cell_type": "code",
   "execution_count": 8,
   "metadata": {
    "collapsed": false
   },
   "outputs": [],
   "source": [
    "def predict_price(city, neighborhood, bedroom, bathroom, room_type):\n",
    "    print city, neighborhood, bedroom, bathroom, room_type\n",
    "    \n",
    "    df, enet = cities[city]\n",
    "    X = df[[x for x in df.columns if x not in ['bhk','price','latitude','longitude','room_id','residuals']]]\n",
    "    target = np.log(df.price)\n",
    "    formula = \"target ~ \"+' + '.join(X)+' -1'\n",
    "    y, X = patsy.dmatrices(formula, data=df, return_type='dataframe')\n",
    "    Xn = pd.DataFrame(StandardScaler().fit_transform(X), columns = X.columns)\n",
    "    #print type(Xn)\n",
    "    \n",
    "    X_final = preprocess(Xn, neighborhood, bedroom, bathroom, room_type)\n",
    "    #print X_final.shape\n",
    "    yhat = enet.predict(X_final)\n",
    "    return np.exp(yhat)\n",
    "    \n",
    "    "
   ]
  },
  {
   "cell_type": "code",
   "execution_count": 9,
   "metadata": {
    "collapsed": true
   },
   "outputs": [],
   "source": [
    "from ipywidgets import *\n",
    "from IPython.display import display"
   ]
  },
  {
   "cell_type": "code",
   "execution_count": 10,
   "metadata": {
    "collapsed": false
   },
   "outputs": [
    {
     "name": "stdout",
     "output_type": "stream",
     "text": [
      "Copenhagen Amager East 2.0 1.0 Entire home/apt\n"
     ]
    },
    {
     "name": "stderr",
     "output_type": "stream",
     "text": [
      "/Users/Jyots/anaconda/envs/dsi/lib/python2.7/site-packages/pandas/core/indexing.py:132: SettingWithCopyWarning: \n",
      "A value is trying to be set on a copy of a slice from a DataFrame\n",
      "\n",
      "See the caveats in the documentation: http://pandas.pydata.org/pandas-docs/stable/indexing.html#indexing-view-versus-copy\n",
      "  self._setitem_with_indexer(indexer, value)\n",
      "/Users/Jyots/anaconda/envs/dsi/lib/python2.7/site-packages/ipykernel/__main__.py:4: SettingWithCopyWarning: \n",
      "A value is trying to be set on a copy of a slice from a DataFrame\n",
      "\n",
      "See the caveats in the documentation: http://pandas.pydata.org/pandas-docs/stable/indexing.html#indexing-view-versus-copy\n",
      "/Users/Jyots/anaconda/envs/dsi/lib/python2.7/site-packages/ipykernel/__main__.py:12: SettingWithCopyWarning: \n",
      "A value is trying to be set on a copy of a slice from a DataFrame\n",
      "\n",
      "See the caveats in the documentation: http://pandas.pydata.org/pandas-docs/stable/indexing.html#indexing-view-versus-copy\n",
      "/Users/Jyots/anaconda/envs/dsi/lib/python2.7/site-packages/ipykernel/__main__.py:14: SettingWithCopyWarning: \n",
      "A value is trying to be set on a copy of a slice from a DataFrame\n",
      "\n",
      "See the caveats in the documentation: http://pandas.pydata.org/pandas-docs/stable/indexing.html#indexing-view-versus-copy\n",
      "/Users/Jyots/anaconda/envs/dsi/lib/python2.7/site-packages/ipykernel/__main__.py:15: SettingWithCopyWarning: \n",
      "A value is trying to be set on a copy of a slice from a DataFrame\n",
      "\n",
      "See the caveats in the documentation: http://pandas.pydata.org/pandas-docs/stable/indexing.html#indexing-view-versus-copy\n",
      "/Users/Jyots/anaconda/envs/dsi/lib/python2.7/site-packages/ipykernel/__main__.py:16: SettingWithCopyWarning: \n",
      "A value is trying to be set on a copy of a slice from a DataFrame\n",
      "\n",
      "See the caveats in the documentation: http://pandas.pydata.org/pandas-docs/stable/indexing.html#indexing-view-versus-copy\n",
      "/Users/Jyots/anaconda/envs/dsi/lib/python2.7/site-packages/ipykernel/__main__.py:17: SettingWithCopyWarning: \n",
      "A value is trying to be set on a copy of a slice from a DataFrame\n",
      "\n",
      "See the caveats in the documentation: http://pandas.pydata.org/pandas-docs/stable/indexing.html#indexing-view-versus-copy\n",
      "/Users/Jyots/anaconda/envs/dsi/lib/python2.7/site-packages/ipykernel/__main__.py:18: SettingWithCopyWarning: \n",
      "A value is trying to be set on a copy of a slice from a DataFrame\n",
      "\n",
      "See the caveats in the documentation: http://pandas.pydata.org/pandas-docs/stable/indexing.html#indexing-view-versus-copy\n",
      "/Users/Jyots/anaconda/envs/dsi/lib/python2.7/site-packages/ipykernel/__main__.py:19: SettingWithCopyWarning: \n",
      "A value is trying to be set on a copy of a slice from a DataFrame\n",
      "\n",
      "See the caveats in the documentation: http://pandas.pydata.org/pandas-docs/stable/indexing.html#indexing-view-versus-copy\n",
      "/Users/Jyots/anaconda/envs/dsi/lib/python2.7/site-packages/ipykernel/__main__.py:20: SettingWithCopyWarning: \n",
      "A value is trying to be set on a copy of a slice from a DataFrame\n",
      "\n",
      "See the caveats in the documentation: http://pandas.pydata.org/pandas-docs/stable/indexing.html#indexing-view-versus-copy\n",
      "/Users/Jyots/anaconda/envs/dsi/lib/python2.7/site-packages/ipykernel/__main__.py:21: SettingWithCopyWarning: \n",
      "A value is trying to be set on a copy of a slice from a DataFrame\n",
      "\n",
      "See the caveats in the documentation: http://pandas.pydata.org/pandas-docs/stable/indexing.html#indexing-view-versus-copy\n",
      "/Users/Jyots/anaconda/envs/dsi/lib/python2.7/site-packages/ipykernel/__main__.py:22: SettingWithCopyWarning: \n",
      "A value is trying to be set on a copy of a slice from a DataFrame\n",
      "\n",
      "See the caveats in the documentation: http://pandas.pydata.org/pandas-docs/stable/indexing.html#indexing-view-versus-copy\n"
     ]
    },
    {
     "name": "stdout",
     "output_type": "stream",
     "text": [
      "(1, 22)\n",
      "147.438795971\n"
     ]
    },
    {
     "name": "stderr",
     "output_type": "stream",
     "text": [
      "/Users/Jyots/anaconda/envs/dsi/lib/python2.7/site-packages/ipykernel/__main__.py:23: SettingWithCopyWarning: \n",
      "A value is trying to be set on a copy of a slice from a DataFrame\n",
      "\n",
      "See the caveats in the documentation: http://pandas.pydata.org/pandas-docs/stable/indexing.html#indexing-view-versus-copy\n",
      "/Users/Jyots/anaconda/envs/dsi/lib/python2.7/site-packages/ipykernel/__main__.py:30: SettingWithCopyWarning: \n",
      "A value is trying to be set on a copy of a slice from a DataFrame\n",
      "\n",
      "See the caveats in the documentation: http://pandas.pydata.org/pandas-docs/stable/indexing.html#indexing-view-versus-copy\n",
      "/Users/Jyots/anaconda/envs/dsi/lib/python2.7/site-packages/ipykernel/__main__.py:31: SettingWithCopyWarning: \n",
      "A value is trying to be set on a copy of a slice from a DataFrame\n",
      "\n",
      "See the caveats in the documentation: http://pandas.pydata.org/pandas-docs/stable/indexing.html#indexing-view-versus-copy\n"
     ]
    }
   ],
   "source": [
    "def test(city, neighborhood='neighborhood',bedroom=1, bathroom=1, room_type='Entire home/apt'):\n",
    "    price = predict_price(city, neighborhood, float(bedroom), float(bathroom), room_type)\n",
    "    print price[0]\n",
    "    \n",
    "def do_interact(name):\n",
    "    city = cities[name][0]\n",
    "    \n",
    "    interact(test,\n",
    "             city = fixed(name),\n",
    "             neighborhood = city.neighborhood.unique().tolist(),\n",
    "             bedroom = city.bedrooms.unique().tolist(),\n",
    "             bathroom = city.bathrooms.unique().tolist(),\n",
    "             room_type = city.room_type.unique().tolist())\n",
    "    \n",
    "    \n",
    "do_interact(\"Copenhagen\")"
   ]
  },
  {
   "cell_type": "code",
   "execution_count": null,
   "metadata": {
    "collapsed": true
   },
   "outputs": [],
   "source": []
  }
 ],
 "metadata": {
  "anaconda-cloud": {},
  "kernelspec": {
   "display_name": "Python [conda env:dsi]",
   "language": "python",
   "name": "conda-env-dsi-py"
  },
  "language_info": {
   "codemirror_mode": {
    "name": "ipython",
    "version": 2
   },
   "file_extension": ".py",
   "mimetype": "text/x-python",
   "name": "python",
   "nbconvert_exporter": "python",
   "pygments_lexer": "ipython2",
   "version": "2.7.12"
  },
  "widgets": {
   "state": {
    "89916587148d41e8a1b96740e275eba7": {
     "views": [
      {
       "cell_index": 9
      }
     ]
    }
   },
   "version": "1.2.0"
  }
 },
 "nbformat": 4,
 "nbformat_minor": 1
}
