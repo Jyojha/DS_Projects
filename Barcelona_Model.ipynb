{
 "cells": [
  {
   "cell_type": "code",
   "execution_count": 1,
   "metadata": {
    "collapsed": false
   },
   "outputs": [],
   "source": [
    "import numpy as np\n",
    "import scipy.stats as stats\n",
    "import seaborn as sns\n",
    "import matplotlib.pyplot as plt\n",
    "import pandas as pd\n",
    "from sklearn import preprocessing\n",
    "\n",
    "sns.set_style('whitegrid')\n",
    "\n",
    "%config InlineBackend.figure_format = 'retina'\n",
    "%matplotlib inline\n",
    "\n"
   ]
  },
  {
   "cell_type": "code",
   "execution_count": 2,
   "metadata": {
    "collapsed": true
   },
   "outputs": [],
   "source": [
    "from sklearn.linear_model import LinearRegression\n",
    "from sklearn.model_selection import train_test_split\n",
    "from sklearn.model_selection import cross_val_score, cross_val_predict\n",
    "from sklearn import metrics\n",
    "from sklearn.preprocessing import StandardScaler\n",
    "from sklearn.linear_model import ElasticNetCV, ElasticNet, LassoCV, Lasso\n",
    "\n",
    "import patsy"
   ]
  },
  {
   "cell_type": "code",
   "execution_count": 3,
   "metadata": {
    "collapsed": true
   },
   "outputs": [],
   "source": [
    "def pred_target(df):\n",
    "    df.drop('Unnamed: 0', axis=1, inplace=True)\n",
    "    X = df[[x for x in df.columns if x != 'price']]\n",
    "    y = df.price.values\n",
    "    target = np.log(y)\n",
    "    formula = \"target ~ \"+' + '.join([x for x in df.columns if not x =='price'])+' -1'\n",
    "    y, X = patsy.dmatrices(formula, data=df, return_type='dataframe')\n",
    "    y = y.values.ravel()\n",
    "    return X, y\n",
    "    "
   ]
  },
  {
   "cell_type": "code",
   "execution_count": 4,
   "metadata": {
    "collapsed": false
   },
   "outputs": [],
   "source": [
    "barcelona = pd.read_csv('/Users/jyots/Desktop/DS_Projects/airbnb_DataSets/Barcelona_dfm.csv',\n",
    "                   encoding='utf8')"
   ]
  },
  {
   "cell_type": "code",
   "execution_count": 5,
   "metadata": {
    "collapsed": true
   },
   "outputs": [],
   "source": [
    "X, y = pred_target(barcelona)"
   ]
  },
  {
   "cell_type": "code",
   "execution_count": 6,
   "metadata": {
    "collapsed": true
   },
   "outputs": [],
   "source": [
    "X_train, X_test, y_train, y_test = train_test_split(X, y, test_size = 0.3)"
   ]
  },
  {
   "cell_type": "code",
   "execution_count": 7,
   "metadata": {
    "collapsed": false
   },
   "outputs": [
    {
     "data": {
      "text/plain": [
       "((9729, 23), (4170, 23))"
      ]
     },
     "execution_count": 7,
     "metadata": {},
     "output_type": "execute_result"
    }
   ],
   "source": [
    "X_train.shape, X_test.shape"
   ]
  },
  {
   "cell_type": "code",
   "execution_count": 8,
   "metadata": {
    "collapsed": true
   },
   "outputs": [],
   "source": [
    "linmod = LinearRegression()"
   ]
  },
  {
   "cell_type": "code",
   "execution_count": 9,
   "metadata": {
    "collapsed": false
   },
   "outputs": [
    {
     "name": "stdout",
     "output_type": "stream",
     "text": [
      "[ 0.64537739  0.65847563  0.63102397  0.64065854  0.60083283  0.58996948\n",
      "  0.1169169   0.65284964  0.60851804  0.62577564]\n",
      "0.57703980488\n",
      "0.154862202971\n"
     ]
    }
   ],
   "source": [
    "scores = cross_val_score(linmod, X_train, y_train, cv = 10)\n",
    "print scores\n",
    "print np.mean(scores)\n",
    "print np.std(scores)"
   ]
  },
  {
   "cell_type": "code",
   "execution_count": 10,
   "metadata": {
    "collapsed": false
   },
   "outputs": [
    {
     "name": "stdout",
     "output_type": "stream",
     "text": [
      "0.613012800348\n"
     ]
    }
   ],
   "source": [
    "predictions = cross_val_predict(linmod, X_test, y_test, cv = 10) \n",
    "accuracy = metrics.r2_score(y_test, predictions)\n",
    "print accuracy\n"
   ]
  },
  {
   "cell_type": "code",
   "execution_count": 11,
   "metadata": {
    "collapsed": false
   },
   "outputs": [
    {
     "data": {
      "text/plain": [
       "array([ 0.16472006,  0.43771166,  0.37086123, ...,  0.3570492 ,\n",
       "       -0.12657951, -0.15548291])"
      ]
     },
     "execution_count": 11,
     "metadata": {},
     "output_type": "execute_result"
    }
   ],
   "source": [
    "residuals = y_test - predictions\n",
    "residuals"
   ]
  },
  {
   "cell_type": "code",
   "execution_count": 12,
   "metadata": {
    "collapsed": false
   },
   "outputs": [
    {
     "data": {
      "text/plain": [
       "4.2063928388245193"
      ]
     },
     "execution_count": 12,
     "metadata": {},
     "output_type": "execute_result"
    }
   ],
   "source": [
    "np.mean(predictions)\n"
   ]
  },
  {
   "cell_type": "code",
   "execution_count": 13,
   "metadata": {
    "collapsed": false
   },
   "outputs": [
    {
     "data": {
      "text/plain": [
       "LinearRegression(copy_X=True, fit_intercept=True, n_jobs=1, normalize=False)"
      ]
     },
     "execution_count": 13,
     "metadata": {},
     "output_type": "execute_result"
    }
   ],
   "source": [
    "linmod.fit(X_train,y_train)"
   ]
  },
  {
   "cell_type": "code",
   "execution_count": 14,
   "metadata": {
    "collapsed": false
   },
   "outputs": [
    {
     "data": {
      "text/plain": [
       "0.60990429524877254"
      ]
     },
     "execution_count": 14,
     "metadata": {},
     "output_type": "execute_result"
    }
   ],
   "source": [
    "linmod.score(X_test, y_test)"
   ]
  },
  {
   "cell_type": "code",
   "execution_count": 15,
   "metadata": {
    "collapsed": false
   },
   "outputs": [],
   "source": [
    "#linmod.coef_"
   ]
  },
  {
   "cell_type": "code",
   "execution_count": 16,
   "metadata": {
    "collapsed": false
   },
   "outputs": [
    {
     "name": "stdout",
     "output_type": "stream",
     "text": [
      "4.19966981087 4.20623982962\n"
     ]
    }
   ],
   "source": [
    "print np.mean(y_train), np.mean(y_test)"
   ]
  },
  {
   "cell_type": "code",
   "execution_count": 17,
   "metadata": {
    "collapsed": true
   },
   "outputs": [],
   "source": [
    "# Regularization: Gridsearch an optimal ElasticNet regression"
   ]
  },
  {
   "cell_type": "code",
   "execution_count": 18,
   "metadata": {
    "collapsed": true
   },
   "outputs": [],
   "source": [
    "Xn = StandardScaler().fit_transform(X)"
   ]
  },
  {
   "cell_type": "code",
   "execution_count": 19,
   "metadata": {
    "collapsed": true
   },
   "outputs": [],
   "source": [
    "Xn_train, Xn_test, y_train, y_test = train_test_split(Xn, y, test_size = 0.3)"
   ]
  },
  {
   "cell_type": "code",
   "execution_count": 20,
   "metadata": {
    "collapsed": false
   },
   "outputs": [],
   "source": [
    "# enet_cv = ElasticNetCV(l1_ratio=np.linspace(0.01, 1., 50), n_alphas=300, cv=10, verbose=1)\n",
    "# enet_cv.fit(Xn_train, y_train)\n"
   ]
  },
  {
   "cell_type": "code",
   "execution_count": 21,
   "metadata": {
    "collapsed": false
   },
   "outputs": [],
   "source": [
    "# print enet_cv.l1_ratio_\n",
    "# print enet_cv.alpha_"
   ]
  },
  {
   "cell_type": "code",
   "execution_count": 22,
   "metadata": {
    "collapsed": false
   },
   "outputs": [],
   "source": [
    "# enet = ElasticNet(alpha= enet_cv.alpha_, l1_ratio=enet_cv.l1_ratio_)\n",
    "\n",
    "# y_pred_enet = enet.fit(Xn_train, y_train).predict(Xn_test)\n",
    "# r2_score_enet = metrics.r2_score(y_test, y_pred_enet)\n",
    "# print(enet)\n",
    "# print(\"r^2 on test data : %f\" % r2_score_enet)\n"
   ]
  },
  {
   "cell_type": "code",
   "execution_count": 23,
   "metadata": {
    "collapsed": false
   },
   "outputs": [],
   "source": [
    "lassocv = LassoCV(n_alphas=300, cv=10)"
   ]
  },
  {
   "cell_type": "code",
   "execution_count": 24,
   "metadata": {
    "collapsed": false
   },
   "outputs": [
    {
     "data": {
      "text/plain": [
       "LassoCV(alphas=None, copy_X=True, cv=10, eps=0.001, fit_intercept=True,\n",
       "    max_iter=1000, n_alphas=300, n_jobs=1, normalize=False, positive=False,\n",
       "    precompute='auto', random_state=None, selection='cyclic', tol=0.0001,\n",
       "    verbose=False)"
      ]
     },
     "execution_count": 24,
     "metadata": {},
     "output_type": "execute_result"
    }
   ],
   "source": [
    "lassocv.fit(Xn_train, y_train)"
   ]
  },
  {
   "cell_type": "code",
   "execution_count": 25,
   "metadata": {
    "collapsed": false
   },
   "outputs": [
    {
     "data": {
      "text/plain": [
       "0.018729954508480008"
      ]
     },
     "execution_count": 25,
     "metadata": {},
     "output_type": "execute_result"
    }
   ],
   "source": [
    "lassocv.alpha_"
   ]
  },
  {
   "cell_type": "code",
   "execution_count": 26,
   "metadata": {
    "collapsed": false
   },
   "outputs": [
    {
     "name": "stdout",
     "output_type": "stream",
     "text": [
      "Lasso(alpha=0.018729954508480008, copy_X=True, fit_intercept=True,\n",
      "   max_iter=1000, normalize=False, positive=False, precompute=False,\n",
      "   random_state=None, selection='cyclic', tol=0.0001, warm_start=False)\n",
      "r^2 on test data : 0.609906\n"
     ]
    }
   ],
   "source": [
    "lasso = Lasso(alpha=lassocv.alpha_)\n",
    "\n",
    "y_pred_lasso = lasso.fit(Xn_train, y_train).predict(Xn_test)\n",
    "r2_score_lasso = metrics.r2_score(y_test, y_pred_lasso)\n",
    "print(lasso)\n",
    "print(\"r^2 on test data : %f\" % r2_score_lasso)\n"
   ]
  },
  {
   "cell_type": "code",
   "execution_count": 27,
   "metadata": {
    "collapsed": true
   },
   "outputs": [],
   "source": [
    "residuals = y_test - y_pred_lasso"
   ]
  },
  {
   "cell_type": "code",
   "execution_count": 28,
   "metadata": {
    "collapsed": false
   },
   "outputs": [
    {
     "data": {
      "text/html": [
       "<div>\n",
       "<table border=\"1\" class=\"dataframe\">\n",
       "  <thead>\n",
       "    <tr style=\"text-align: right;\">\n",
       "      <th></th>\n",
       "      <th>abscoef</th>\n",
       "      <th>coef</th>\n",
       "      <th>variable</th>\n",
       "    </tr>\n",
       "  </thead>\n",
       "  <tbody>\n",
       "    <tr>\n",
       "      <th>10</th>\n",
       "      <td>0.391650</td>\n",
       "      <td>-0.391650</td>\n",
       "      <td>room_type[T.Private room]</td>\n",
       "    </tr>\n",
       "    <tr>\n",
       "      <th>13</th>\n",
       "      <td>0.113896</td>\n",
       "      <td>0.113896</td>\n",
       "      <td>bedrooms</td>\n",
       "    </tr>\n",
       "    <tr>\n",
       "      <th>11</th>\n",
       "      <td>0.107449</td>\n",
       "      <td>-0.107449</td>\n",
       "      <td>room_type[T.Shared room]</td>\n",
       "    </tr>\n",
       "    <tr>\n",
       "      <th>21</th>\n",
       "      <td>0.058789</td>\n",
       "      <td>-0.058789</td>\n",
       "      <td>reviews</td>\n",
       "    </tr>\n",
       "    <tr>\n",
       "      <th>14</th>\n",
       "      <td>0.048762</td>\n",
       "      <td>0.048762</td>\n",
       "      <td>bhk</td>\n",
       "    </tr>\n",
       "    <tr>\n",
       "      <th>12</th>\n",
       "      <td>0.048210</td>\n",
       "      <td>0.048210</td>\n",
       "      <td>bathrooms</td>\n",
       "    </tr>\n",
       "    <tr>\n",
       "      <th>16</th>\n",
       "      <td>0.040388</td>\n",
       "      <td>0.040388</td>\n",
       "      <td>host_count</td>\n",
       "    </tr>\n",
       "    <tr>\n",
       "      <th>5</th>\n",
       "      <td>0.024941</td>\n",
       "      <td>-0.024941</td>\n",
       "      <td>neighborhood[Nou Barris]</td>\n",
       "    </tr>\n",
       "    <tr>\n",
       "      <th>6</th>\n",
       "      <td>0.011401</td>\n",
       "      <td>-0.011401</td>\n",
       "      <td>neighborhood[Sant Andreu]</td>\n",
       "    </tr>\n",
       "    <tr>\n",
       "      <th>9</th>\n",
       "      <td>0.010149</td>\n",
       "      <td>0.010149</td>\n",
       "      <td>neighborhood[Sarria-Sant Gervasi]</td>\n",
       "    </tr>\n",
       "    <tr>\n",
       "      <th>19</th>\n",
       "      <td>0.009215</td>\n",
       "      <td>-0.009215</td>\n",
       "      <td>overall_satisfaction</td>\n",
       "    </tr>\n",
       "    <tr>\n",
       "      <th>18</th>\n",
       "      <td>0.009178</td>\n",
       "      <td>-0.009178</td>\n",
       "      <td>minstay</td>\n",
       "    </tr>\n",
       "    <tr>\n",
       "      <th>8</th>\n",
       "      <td>0.009040</td>\n",
       "      <td>-0.009040</td>\n",
       "      <td>neighborhood[Sants-Montjuic]</td>\n",
       "    </tr>\n",
       "  </tbody>\n",
       "</table>\n",
       "</div>"
      ],
      "text/plain": [
       "     abscoef      coef                           variable\n",
       "10  0.391650 -0.391650          room_type[T.Private room]\n",
       "13  0.113896  0.113896                           bedrooms\n",
       "11  0.107449 -0.107449           room_type[T.Shared room]\n",
       "21  0.058789 -0.058789                            reviews\n",
       "14  0.048762  0.048762                                bhk\n",
       "12  0.048210  0.048210                          bathrooms\n",
       "16  0.040388  0.040388                         host_count\n",
       "5   0.024941 -0.024941           neighborhood[Nou Barris]\n",
       "6   0.011401 -0.011401          neighborhood[Sant Andreu]\n",
       "9   0.010149  0.010149  neighborhood[Sarria-Sant Gervasi]\n",
       "19  0.009215 -0.009215               overall_satisfaction\n",
       "18  0.009178 -0.009178                            minstay\n",
       "8   0.009040 -0.009040       neighborhood[Sants-Montjuic]"
      ]
     },
     "execution_count": 28,
     "metadata": {},
     "output_type": "execute_result"
    }
   ],
   "source": [
    "lasso.fit(Xn_train, y_train)\n",
    "\n",
    "lasso_coef = pd.DataFrame({\n",
    "        'variable':X_train.columns,\n",
    "        'coef':lasso.coef_,\n",
    "        'abscoef':np.abs(lasso.coef_)\n",
    "    })\n",
    "\n",
    "lasso_coef.sort_values('abscoef', ascending=False, inplace=True)\n",
    "lasso_coef[lasso_coef.coef != 0].head(25)\n"
   ]
  },
  {
   "cell_type": "code",
   "execution_count": 30,
   "metadata": {
    "collapsed": false
   },
   "outputs": [],
   "source": [
    "# plt.plot(enet.coef_, color='lightgreen', linewidth=2,\n",
    "#          label='Elastic net coefficients')\n",
    "# plt.plot(lassocv.coef_, color='gold', linewidth=2,\n",
    "#          label='Lasso coefficients')\n",
    "# #plt.plot(linmod.coef_, '--', color='navy', label='original coefficients')\n",
    "# plt.title(\"Lasso R^2: %f, Elastic Net R^2: %f\"\n",
    "#           % (r2_score_lasso, r2_score_enet))\n",
    "# plt.show()"
   ]
  },
  {
   "cell_type": "code",
   "execution_count": 31,
   "metadata": {
    "collapsed": false
   },
   "outputs": [
    {
     "data": {
      "text/plain": [
       "<matplotlib.axes._subplots.AxesSubplot at 0x117d68390>"
      ]
     },
     "execution_count": 31,
     "metadata": {},
     "output_type": "execute_result"
    },
    {
     "data": {
      "image/png": "[encoded data removed]",
      "text/plain": [
       "<matplotlib.figure.Figure at 0x117ef8b10>"
      ]
     },
     "metadata": {
      "image/png": {
       "height": 359,
       "width": 521
      }
     },
     "output_type": "display_data"
    }
   ],
   "source": [
    "# plt.plot(residuals, '--', color='navy', label='original coefficients')\n",
    "# plt.title(\"Lasso R^2: %f, Elastic Net R^2: %f\"\n",
    "#           % (r2_score_lasso, r2_score_enet))\n",
    "# plt.show()\n",
    "sns.distplot(residuals, bins=50, kde=False)"
   ]
  },
  {
   "cell_type": "code",
   "execution_count": null,
   "metadata": {
    "collapsed": true
   },
   "outputs": [],
   "source": []
  }
 ],
 "metadata": {
  "anaconda-cloud": {},
  "kernelspec": {
   "display_name": "Python [conda env:dsi]",
   "language": "python",
   "name": "conda-env-dsi-py"
  },
  "language_info": {
   "codemirror_mode": {
    "name": "ipython",
    "version": 2
   },
   "file_extension": ".py",
   "mimetype": "text/x-python",
   "name": "python",
   "nbconvert_exporter": "python",
   "pygments_lexer": "ipython2",
   "version": "2.7.12"
  }
 },
 "nbformat": 4,
 "nbformat_minor": 1
}
