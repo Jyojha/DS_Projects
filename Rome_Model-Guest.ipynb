{
 "cells": [
  {
   "cell_type": "code",
   "execution_count": 1,
   "metadata": {
    "collapsed": true
   },
   "outputs": [],
   "source": [
    "import numpy as np\n",
    "import scipy.stats as stats\n",
    "import seaborn as sns\n",
    "import matplotlib.pyplot as plt\n",
    "import pandas as pd\n",
    "from sklearn import preprocessing\n",
    "\n",
    "sns.set_style('whitegrid')\n",
    "\n",
    "%config InlineBackend.figure_format = 'retina'\n",
    "%matplotlib inline"
   ]
  },
  {
   "cell_type": "code",
   "execution_count": 2,
   "metadata": {
    "collapsed": false
   },
   "outputs": [],
   "source": [
    "df = pd.read_csv('/Users/jyots/Desktop/DS_Projects/airbnb_DataSets/Rome_dfmguest.csv',\n",
    "                   encoding='utf8')"
   ]
  },
  {
   "cell_type": "code",
   "execution_count": 3,
   "metadata": {
    "collapsed": false,
    "scrolled": false
   },
   "outputs": [
    {
     "data": {
      "text/plain": [
       "(15609, 18)"
      ]
     },
     "execution_count": 3,
     "metadata": {},
     "output_type": "execute_result"
    }
   ],
   "source": [
    "df.shape"
   ]
  },
  {
   "cell_type": "code",
   "execution_count": 4,
   "metadata": {
    "collapsed": true
   },
   "outputs": [],
   "source": [
    "df.drop('Unnamed: 0', inplace=True, axis=1)\n",
    "df.rename(columns ={'reviews_count':'review_count'},inplace=True)\n"
   ]
  },
  {
   "cell_type": "code",
   "execution_count": 5,
   "metadata": {
    "collapsed": false
   },
   "outputs": [
    {
     "data": {
      "text/html": [
       "<div>\n",
       "<table border=\"1\" class=\"dataframe\">\n",
       "  <thead>\n",
       "    <tr style=\"text-align: right;\">\n",
       "      <th></th>\n",
       "      <th>bathrooms</th>\n",
       "      <th>bedrooms</th>\n",
       "      <th>bhk</th>\n",
       "      <th>dist_arprt</th>\n",
       "      <th>host_count</th>\n",
       "      <th>latitude</th>\n",
       "      <th>longitude</th>\n",
       "      <th>metrostn_count</th>\n",
       "      <th>minstay</th>\n",
       "      <th>neighborhood</th>\n",
       "      <th>overall_satisfaction</th>\n",
       "      <th>price</th>\n",
       "      <th>rest_count</th>\n",
       "      <th>reviews</th>\n",
       "      <th>review_count</th>\n",
       "      <th>room_id</th>\n",
       "      <th>room_type</th>\n",
       "    </tr>\n",
       "  </thead>\n",
       "  <tbody>\n",
       "    <tr>\n",
       "      <th>0</th>\n",
       "      <td>1.0</td>\n",
       "      <td>0.0</td>\n",
       "      <td>1.0</td>\n",
       "      <td>0.251722</td>\n",
       "      <td>8989</td>\n",
       "      <td>41.890418</td>\n",
       "      <td>12.469850</td>\n",
       "      <td>13</td>\n",
       "      <td>3.0</td>\n",
       "      <td>Municipio 1</td>\n",
       "      <td>2.0</td>\n",
       "      <td>167.0</td>\n",
       "      <td>77</td>\n",
       "      <td>0</td>\n",
       "      <td>140078</td>\n",
       "      <td>6408911</td>\n",
       "      <td>Entire home/apt</td>\n",
       "    </tr>\n",
       "    <tr>\n",
       "      <th>1</th>\n",
       "      <td>1.0</td>\n",
       "      <td>1.0</td>\n",
       "      <td>1.0</td>\n",
       "      <td>0.251722</td>\n",
       "      <td>8989</td>\n",
       "      <td>41.904453</td>\n",
       "      <td>12.458648</td>\n",
       "      <td>13</td>\n",
       "      <td>3.0</td>\n",
       "      <td>Municipio 1</td>\n",
       "      <td>4.5</td>\n",
       "      <td>121.0</td>\n",
       "      <td>77</td>\n",
       "      <td>20</td>\n",
       "      <td>140078</td>\n",
       "      <td>2185484</td>\n",
       "      <td>Entire home/apt</td>\n",
       "    </tr>\n",
       "  </tbody>\n",
       "</table>\n",
       "</div>"
      ],
      "text/plain": [
       "   bathrooms  bedrooms  bhk  dist_arprt  host_count   latitude  longitude  \\\n",
       "0        1.0       0.0  1.0    0.251722        8989  41.890418  12.469850   \n",
       "1        1.0       1.0  1.0    0.251722        8989  41.904453  12.458648   \n",
       "\n",
       "   metrostn_count  minstay neighborhood  overall_satisfaction  price  \\\n",
       "0              13      3.0  Municipio 1                   2.0  167.0   \n",
       "1              13      3.0  Municipio 1                   4.5  121.0   \n",
       "\n",
       "   rest_count  reviews  review_count  room_id        room_type  \n",
       "0          77        0        140078  6408911  Entire home/apt  \n",
       "1          77       20        140078  2185484  Entire home/apt  "
      ]
     },
     "execution_count": 5,
     "metadata": {},
     "output_type": "execute_result"
    }
   ],
   "source": [
    "df.head(2)"
   ]
  },
  {
   "cell_type": "code",
   "execution_count": 6,
   "metadata": {
    "collapsed": true
   },
   "outputs": [],
   "source": [
    "df.to_csv(path_or_buf='/Users/jyots/Desktop/DS_Projects/airbnb_datasets/Rome_IP.csv')"
   ]
  },
  {
   "cell_type": "code",
   "execution_count": 7,
   "metadata": {
    "collapsed": true
   },
   "outputs": [],
   "source": [
    "from sklearn.linear_model import LinearRegression\n",
    "from sklearn.model_selection import train_test_split\n",
    "from sklearn.model_selection import cross_val_score, cross_val_predict\n",
    "from sklearn import metrics\n",
    "from sklearn.preprocessing import StandardScaler\n",
    "from sklearn.linear_model import ElasticNetCV, ElasticNet, LassoCV, Lasso\n",
    "\n",
    "import patsy"
   ]
  },
  {
   "cell_type": "code",
   "execution_count": 8,
   "metadata": {
    "collapsed": true
   },
   "outputs": [],
   "source": [
    "df = df[df.price <= 1000]\n"
   ]
  },
  {
   "cell_type": "code",
   "execution_count": 9,
   "metadata": {
    "collapsed": false
   },
   "outputs": [
    {
     "data": {
      "text/plain": [
       "(15585, 17)"
      ]
     },
     "execution_count": 9,
     "metadata": {},
     "output_type": "execute_result"
    }
   ],
   "source": [
    "df.shape"
   ]
  },
  {
   "cell_type": "code",
   "execution_count": 10,
   "metadata": {
    "collapsed": false
   },
   "outputs": [],
   "source": [
    "X = df[[x for x in df.columns if x not in ['bhk','price','latitude','longitude','room_id']]]\n",
    "y = df.price.values\n",
    "target = np.log(y)\n"
   ]
  },
  {
   "cell_type": "code",
   "execution_count": 11,
   "metadata": {
    "collapsed": false
   },
   "outputs": [
    {
     "data": {
      "text/plain": [
       "u'target ~ bathrooms + bedrooms + dist_arprt + host_count + metrostn_count + minstay + neighborhood + overall_satisfaction + rest_count + reviews + review_count + room_type -1'"
      ]
     },
     "execution_count": 11,
     "metadata": {},
     "output_type": "execute_result"
    }
   ],
   "source": [
    "formula = \"target ~ \"+' + '.join(X)+' -1'\n",
    "formula"
   ]
  },
  {
   "cell_type": "code",
   "execution_count": 12,
   "metadata": {
    "collapsed": true
   },
   "outputs": [],
   "source": [
    "y, X = patsy.dmatrices(formula, data=df, return_type='dataframe')\n",
    "y = y.values.ravel()"
   ]
  },
  {
   "cell_type": "code",
   "execution_count": 13,
   "metadata": {
    "collapsed": false
   },
   "outputs": [
    {
     "data": {
      "text/plain": [
       "array([ 5.11799381,  4.79579055,  4.4543473 , ...,  4.2341065 ,\n",
       "        5.15329159,  4.52178858])"
      ]
     },
     "execution_count": 13,
     "metadata": {},
     "output_type": "execute_result"
    }
   ],
   "source": [
    "y"
   ]
  },
  {
   "cell_type": "code",
   "execution_count": 14,
   "metadata": {
    "collapsed": true
   },
   "outputs": [],
   "source": [
    "X_train, X_test, y_train, y_test = train_test_split(X, y, test_size = 0.3)"
   ]
  },
  {
   "cell_type": "code",
   "execution_count": 15,
   "metadata": {
    "collapsed": false
   },
   "outputs": [
    {
     "data": {
      "text/plain": [
       "((10909, 26), (4676, 26))"
      ]
     },
     "execution_count": 15,
     "metadata": {},
     "output_type": "execute_result"
    }
   ],
   "source": [
    "X_train.shape, X_test.shape"
   ]
  },
  {
   "cell_type": "code",
   "execution_count": 16,
   "metadata": {
    "collapsed": false
   },
   "outputs": [
    {
     "data": {
      "text/html": [
       "<div>\n",
       "<table border=\"1\" class=\"dataframe\">\n",
       "  <thead>\n",
       "    <tr style=\"text-align: right;\">\n",
       "      <th></th>\n",
       "      <th>neighborhood[Municipio 1]</th>\n",
       "      <th>neighborhood[Municipio 10]</th>\n",
       "      <th>neighborhood[Municipio 11]</th>\n",
       "      <th>neighborhood[Municipio 12]</th>\n",
       "      <th>neighborhood[Municipio 13]</th>\n",
       "      <th>neighborhood[Municipio 14]</th>\n",
       "      <th>neighborhood[Municipio 15]</th>\n",
       "      <th>neighborhood[Municipio 2]</th>\n",
       "      <th>neighborhood[Municipio 3]</th>\n",
       "      <th>neighborhood[Municipio 4]</th>\n",
       "      <th>...</th>\n",
       "      <th>bathrooms</th>\n",
       "      <th>bedrooms</th>\n",
       "      <th>dist_arprt</th>\n",
       "      <th>host_count</th>\n",
       "      <th>metrostn_count</th>\n",
       "      <th>minstay</th>\n",
       "      <th>overall_satisfaction</th>\n",
       "      <th>rest_count</th>\n",
       "      <th>reviews</th>\n",
       "      <th>review_count</th>\n",
       "    </tr>\n",
       "  </thead>\n",
       "  <tbody>\n",
       "    <tr>\n",
       "      <th>2229</th>\n",
       "      <td>1.0</td>\n",
       "      <td>0.0</td>\n",
       "      <td>0.0</td>\n",
       "      <td>0.0</td>\n",
       "      <td>0.0</td>\n",
       "      <td>0.0</td>\n",
       "      <td>0.0</td>\n",
       "      <td>0.0</td>\n",
       "      <td>0.0</td>\n",
       "      <td>0.0</td>\n",
       "      <td>...</td>\n",
       "      <td>1.0</td>\n",
       "      <td>1.0</td>\n",
       "      <td>0.251722</td>\n",
       "      <td>8989.0</td>\n",
       "      <td>13.0</td>\n",
       "      <td>1.0</td>\n",
       "      <td>2.0</td>\n",
       "      <td>77.0</td>\n",
       "      <td>0.0</td>\n",
       "      <td>140078.0</td>\n",
       "    </tr>\n",
       "    <tr>\n",
       "      <th>503</th>\n",
       "      <td>1.0</td>\n",
       "      <td>0.0</td>\n",
       "      <td>0.0</td>\n",
       "      <td>0.0</td>\n",
       "      <td>0.0</td>\n",
       "      <td>0.0</td>\n",
       "      <td>0.0</td>\n",
       "      <td>0.0</td>\n",
       "      <td>0.0</td>\n",
       "      <td>0.0</td>\n",
       "      <td>...</td>\n",
       "      <td>1.0</td>\n",
       "      <td>1.0</td>\n",
       "      <td>0.251722</td>\n",
       "      <td>8989.0</td>\n",
       "      <td>13.0</td>\n",
       "      <td>1.0</td>\n",
       "      <td>2.0</td>\n",
       "      <td>77.0</td>\n",
       "      <td>0.0</td>\n",
       "      <td>140078.0</td>\n",
       "    </tr>\n",
       "  </tbody>\n",
       "</table>\n",
       "<p>2 rows × 26 columns</p>\n",
       "</div>"
      ],
      "text/plain": [
       "      neighborhood[Municipio 1]  neighborhood[Municipio 10]  \\\n",
       "2229                        1.0                         0.0   \n",
       "503                         1.0                         0.0   \n",
       "\n",
       "      neighborhood[Municipio 11]  neighborhood[Municipio 12]  \\\n",
       "2229                         0.0                         0.0   \n",
       "503                          0.0                         0.0   \n",
       "\n",
       "      neighborhood[Municipio 13]  neighborhood[Municipio 14]  \\\n",
       "2229                         0.0                         0.0   \n",
       "503                          0.0                         0.0   \n",
       "\n",
       "      neighborhood[Municipio 15]  neighborhood[Municipio 2]  \\\n",
       "2229                         0.0                        0.0   \n",
       "503                          0.0                        0.0   \n",
       "\n",
       "      neighborhood[Municipio 3]  neighborhood[Municipio 4]      ...       \\\n",
       "2229                        0.0                        0.0      ...        \n",
       "503                         0.0                        0.0      ...        \n",
       "\n",
       "      bathrooms  bedrooms  dist_arprt  host_count  metrostn_count  minstay  \\\n",
       "2229        1.0       1.0    0.251722      8989.0            13.0      1.0   \n",
       "503         1.0       1.0    0.251722      8989.0            13.0      1.0   \n",
       "\n",
       "      overall_satisfaction  rest_count  reviews  review_count  \n",
       "2229                   2.0        77.0      0.0      140078.0  \n",
       "503                    2.0        77.0      0.0      140078.0  \n",
       "\n",
       "[2 rows x 26 columns]"
      ]
     },
     "execution_count": 16,
     "metadata": {},
     "output_type": "execute_result"
    }
   ],
   "source": [
    "X_test.head(2)"
   ]
  },
  {
   "cell_type": "code",
   "execution_count": 17,
   "metadata": {
    "collapsed": true
   },
   "outputs": [],
   "source": [
    "linmod = LinearRegression()"
   ]
  },
  {
   "cell_type": "code",
   "execution_count": 18,
   "metadata": {
    "collapsed": false
   },
   "outputs": [
    {
     "name": "stdout",
     "output_type": "stream",
     "text": [
      "[ 0.50153531  0.50613433  0.52304198  0.52389531  0.60171749  0.52211624\n",
      "  0.46516547  0.50363653  0.46685266  0.54248026]\n",
      "0.515657557576\n",
      "0.0369538602358\n"
     ]
    }
   ],
   "source": [
    "scores = cross_val_score(linmod, X_train, y_train, cv = 10)\n",
    "print scores\n",
    "print np.mean(scores)\n",
    "print np.std(scores)"
   ]
  },
  {
   "cell_type": "code",
   "execution_count": 19,
   "metadata": {
    "collapsed": false
   },
   "outputs": [
    {
     "name": "stdout",
     "output_type": "stream",
     "text": [
      "0.499986309548\n"
     ]
    }
   ],
   "source": [
    "predictions = cross_val_predict(linmod, X_test, y_test, cv = 10) \n",
    "accuracy = metrics.r2_score(y_test, predictions)\n",
    "print accuracy\n"
   ]
  },
  {
   "cell_type": "code",
   "execution_count": 20,
   "metadata": {
    "collapsed": false
   },
   "outputs": [
    {
     "data": {
      "text/plain": [
       "array([ 0.22327656, -0.69301417, -0.57055378, ..., -0.33184273,\n",
       "       -0.24647086,  0.44708098])"
      ]
     },
     "execution_count": 20,
     "metadata": {},
     "output_type": "execute_result"
    }
   ],
   "source": [
    "residuals = y_test - predictions\n",
    "residuals"
   ]
  },
  {
   "cell_type": "code",
   "execution_count": 21,
   "metadata": {
    "collapsed": false
   },
   "outputs": [
    {
     "data": {
      "text/plain": [
       "4.5562843683801706"
      ]
     },
     "execution_count": 21,
     "metadata": {},
     "output_type": "execute_result"
    }
   ],
   "source": [
    "np.mean(predictions)\n"
   ]
  },
  {
   "cell_type": "code",
   "execution_count": 22,
   "metadata": {
    "collapsed": false
   },
   "outputs": [
    {
     "data": {
      "text/plain": [
       "LinearRegression(copy_X=True, fit_intercept=True, n_jobs=1, normalize=False)"
      ]
     },
     "execution_count": 22,
     "metadata": {},
     "output_type": "execute_result"
    }
   ],
   "source": [
    "linmod.fit(X_train,y_train)"
   ]
  },
  {
   "cell_type": "code",
   "execution_count": 23,
   "metadata": {
    "collapsed": false
   },
   "outputs": [
    {
     "data": {
      "text/plain": [
       "0.50216251060234218"
      ]
     },
     "execution_count": 23,
     "metadata": {},
     "output_type": "execute_result"
    }
   ],
   "source": [
    "linmod.score(X_test, y_test)"
   ]
  },
  {
   "cell_type": "code",
   "execution_count": 24,
   "metadata": {
    "collapsed": false
   },
   "outputs": [],
   "source": [
    "#linmod.coef_"
   ]
  },
  {
   "cell_type": "code",
   "execution_count": 25,
   "metadata": {
    "collapsed": false
   },
   "outputs": [
    {
     "name": "stdout",
     "output_type": "stream",
     "text": [
      "4.56074206094 4.55622087816\n"
     ]
    }
   ],
   "source": [
    "print np.mean(y_train), np.mean(y_test)"
   ]
  },
  {
   "cell_type": "code",
   "execution_count": 26,
   "metadata": {
    "collapsed": true
   },
   "outputs": [],
   "source": [
    "# Regularization: Gridsearch an optimal ElasticNet regression"
   ]
  },
  {
   "cell_type": "code",
   "execution_count": 27,
   "metadata": {
    "collapsed": true
   },
   "outputs": [],
   "source": [
    "Xn = StandardScaler().fit_transform(X)"
   ]
  },
  {
   "cell_type": "code",
   "execution_count": 28,
   "metadata": {
    "collapsed": true
   },
   "outputs": [],
   "source": [
    "Xn_train, Xn_test, y_train, y_test = train_test_split(Xn, y, test_size = 0.3)"
   ]
  },
  {
   "cell_type": "code",
   "execution_count": 29,
   "metadata": {
    "collapsed": false
   },
   "outputs": [],
   "source": [
    "# enet_cv = ElasticNetCV(l1_ratio=np.linspace(0.01, 1., 50), n_alphas=300, cv=10, verbose=1)\n",
    "# enet_cv.fit(Xn_train, y_train)\n"
   ]
  },
  {
   "cell_type": "code",
   "execution_count": 30,
   "metadata": {
    "collapsed": false
   },
   "outputs": [],
   "source": [
    "# print enet_cv.l1_ratio_\n",
    "# print enet_cv.alpha_"
   ]
  },
  {
   "cell_type": "code",
   "execution_count": 31,
   "metadata": {
    "collapsed": false
   },
   "outputs": [
    {
     "name": "stdout",
     "output_type": "stream",
     "text": [
      "ElasticNet(alpha=0.00041653551556, copy_X=True, fit_intercept=True,\n",
      "      l1_ratio=0.595918367347, max_iter=1000, normalize=False,\n",
      "      positive=False, precompute=False, random_state=None,\n",
      "      selection='cyclic', tol=0.0001, warm_start=False)\n",
      "r^2 on test data : 0.521416\n"
     ]
    },
    {
     "name": "stderr",
     "output_type": "stream",
     "text": [
      "/Users/Jyots/anaconda/envs/dsi/lib/python2.7/site-packages/sklearn/linear_model/coordinate_descent.py:484: ConvergenceWarning: Objective did not converge. You might want to increase the number of iterations. Fitting data with very small alpha may cause precision problems.\n",
      "  ConvergenceWarning)\n"
     ]
    }
   ],
   "source": [
    "l1_ratio = 0.595918367347\n",
    "alpha = 0.00041653551556\n",
    "\n",
    "enet_rome = ElasticNet(alpha= alpha, l1_ratio=l1_ratio)\n",
    "\n",
    "y_pred_enet = enet_rome.fit(Xn_train, y_train).predict(Xn_test)\n",
    "r2_score_enet = metrics.r2_score(y_test, y_pred_enet)\n",
    "print(enet_rome)\n",
    "print(\"r^2 on test data : %f\" % r2_score_enet)\n"
   ]
  },
  {
   "cell_type": "code",
   "execution_count": 32,
   "metadata": {
    "collapsed": false
   },
   "outputs": [
    {
     "data": {
      "text/plain": [
       "['/Users/jyots/Desktop/DS_Projects/Models/enet_Rome.pkl']"
      ]
     },
     "execution_count": 32,
     "metadata": {},
     "output_type": "execute_result"
    }
   ],
   "source": [
    "from sklearn.externals import joblib\n",
    "joblib.dump(enet_rome, '/Users/jyots/Desktop/DS_Projects/Models/enet_Rome.pkl') "
   ]
  },
  {
   "cell_type": "code",
   "execution_count": 33,
   "metadata": {
    "collapsed": true
   },
   "outputs": [],
   "source": [
    "#test = joblib.load('/Users/jyots/Desktop/DS_Projects/Models/enet_rome.pkl')"
   ]
  },
  {
   "cell_type": "code",
   "execution_count": 34,
   "metadata": {
    "collapsed": false
   },
   "outputs": [],
   "source": [
    "lassocv = LassoCV(n_alphas=300, cv=10)"
   ]
  },
  {
   "cell_type": "code",
   "execution_count": 35,
   "metadata": {
    "collapsed": false
   },
   "outputs": [
    {
     "data": {
      "text/plain": [
       "LassoCV(alphas=None, copy_X=True, cv=10, eps=0.001, fit_intercept=True,\n",
       "    max_iter=1000, n_alphas=300, n_jobs=1, normalize=False, positive=False,\n",
       "    precompute='auto', random_state=None, selection='cyclic', tol=0.0001,\n",
       "    verbose=False)"
      ]
     },
     "execution_count": 35,
     "metadata": {},
     "output_type": "execute_result"
    }
   ],
   "source": [
    "lassocv.fit(Xn_train, y_train)"
   ]
  },
  {
   "cell_type": "code",
   "execution_count": 36,
   "metadata": {
    "collapsed": false
   },
   "outputs": [
    {
     "data": {
      "text/plain": [
       "0.00024903149952354772"
      ]
     },
     "execution_count": 36,
     "metadata": {},
     "output_type": "execute_result"
    }
   ],
   "source": [
    "lassocv.alpha_"
   ]
  },
  {
   "cell_type": "code",
   "execution_count": null,
   "metadata": {
    "collapsed": true
   },
   "outputs": [],
   "source": []
  },
  {
   "cell_type": "code",
   "execution_count": 37,
   "metadata": {
    "collapsed": false
   },
   "outputs": [
    {
     "name": "stdout",
     "output_type": "stream",
     "text": [
      "Lasso(alpha=0.00024903149952354772, copy_X=True, fit_intercept=True,\n",
      "   max_iter=1000, normalize=False, positive=False, precompute=False,\n",
      "   random_state=None, selection='cyclic', tol=0.0001, warm_start=False)\n",
      "r^2 on test data : 0.521380\n"
     ]
    }
   ],
   "source": [
    "lasso = Lasso(alpha=lassocv.alpha_)\n",
    "lasso_model = lasso.fit(Xn_train, y_train)\n",
    "y_pred_lasso = lasso_model.predict(Xn_test)\n",
    "r2_score_lasso = metrics.r2_score(y_test, y_pred_lasso)\n",
    "print(lasso)\n",
    "print(\"r^2 on test data : %f\" % r2_score_lasso)\n"
   ]
  },
  {
   "cell_type": "code",
   "execution_count": 38,
   "metadata": {
    "collapsed": false
   },
   "outputs": [
    {
     "data": {
      "image/png": "[encoded data removed]",
      "text/plain": [
       "<matplotlib.figure.Figure at 0x11762ca90>"
      ]
     },
     "metadata": {
      "image/png": {
       "height": 591,
       "width": 680
      }
     },
     "output_type": "display_data"
    }
   ],
   "source": [
    "fig, ax = plt.subplots(figsize=(8,7))\n",
    "ax.scatter(np.exp(y_test), np.exp(y_pred_enet), s=70, alpha=0.6)\n",
    "plt.show()"
   ]
  },
  {
   "cell_type": "code",
   "execution_count": 39,
   "metadata": {
    "collapsed": false
   },
   "outputs": [],
   "source": [
    "residuals = np.exp(y_test) - np.exp(y_pred_enet)"
   ]
  },
  {
   "cell_type": "code",
   "execution_count": 40,
   "metadata": {
    "collapsed": false
   },
   "outputs": [],
   "source": [
    "y_pred_enet_all = enet_rome.fit(Xn_train, y_train).predict(Xn)\n"
   ]
  },
  {
   "cell_type": "code",
   "execution_count": 41,
   "metadata": {
    "collapsed": true
   },
   "outputs": [],
   "source": [
    "residuals_all = np.exp(y) - np.exp(y_pred_enet_all)"
   ]
  },
  {
   "cell_type": "code",
   "execution_count": 42,
   "metadata": {
    "collapsed": false
   },
   "outputs": [
    {
     "data": {
      "text/plain": [
       "15585"
      ]
     },
     "execution_count": 42,
     "metadata": {},
     "output_type": "execute_result"
    }
   ],
   "source": [
    "len(residuals_all)"
   ]
  },
  {
   "cell_type": "code",
   "execution_count": 43,
   "metadata": {
    "collapsed": false
   },
   "outputs": [
    {
     "data": {
      "text/html": [
       "<div>\n",
       "<table border=\"1\" class=\"dataframe\">\n",
       "  <thead>\n",
       "    <tr style=\"text-align: right;\">\n",
       "      <th></th>\n",
       "      <th>bathrooms</th>\n",
       "      <th>bedrooms</th>\n",
       "      <th>bhk</th>\n",
       "      <th>dist_arprt</th>\n",
       "      <th>host_count</th>\n",
       "      <th>latitude</th>\n",
       "      <th>longitude</th>\n",
       "      <th>metrostn_count</th>\n",
       "      <th>minstay</th>\n",
       "      <th>neighborhood</th>\n",
       "      <th>overall_satisfaction</th>\n",
       "      <th>price</th>\n",
       "      <th>rest_count</th>\n",
       "      <th>reviews</th>\n",
       "      <th>review_count</th>\n",
       "      <th>room_id</th>\n",
       "      <th>room_type</th>\n",
       "    </tr>\n",
       "  </thead>\n",
       "  <tbody>\n",
       "    <tr>\n",
       "      <th>0</th>\n",
       "      <td>1.0</td>\n",
       "      <td>0.0</td>\n",
       "      <td>1.0</td>\n",
       "      <td>0.251722</td>\n",
       "      <td>8989</td>\n",
       "      <td>41.890418</td>\n",
       "      <td>12.469850</td>\n",
       "      <td>13</td>\n",
       "      <td>3.0</td>\n",
       "      <td>Municipio 1</td>\n",
       "      <td>2.0</td>\n",
       "      <td>167.0</td>\n",
       "      <td>77</td>\n",
       "      <td>0</td>\n",
       "      <td>140078</td>\n",
       "      <td>6408911</td>\n",
       "      <td>Entire home/apt</td>\n",
       "    </tr>\n",
       "    <tr>\n",
       "      <th>1</th>\n",
       "      <td>1.0</td>\n",
       "      <td>1.0</td>\n",
       "      <td>1.0</td>\n",
       "      <td>0.251722</td>\n",
       "      <td>8989</td>\n",
       "      <td>41.904453</td>\n",
       "      <td>12.458648</td>\n",
       "      <td>13</td>\n",
       "      <td>3.0</td>\n",
       "      <td>Municipio 1</td>\n",
       "      <td>4.5</td>\n",
       "      <td>121.0</td>\n",
       "      <td>77</td>\n",
       "      <td>20</td>\n",
       "      <td>140078</td>\n",
       "      <td>2185484</td>\n",
       "      <td>Entire home/apt</td>\n",
       "    </tr>\n",
       "  </tbody>\n",
       "</table>\n",
       "</div>"
      ],
      "text/plain": [
       "   bathrooms  bedrooms  bhk  dist_arprt  host_count   latitude  longitude  \\\n",
       "0        1.0       0.0  1.0    0.251722        8989  41.890418  12.469850   \n",
       "1        1.0       1.0  1.0    0.251722        8989  41.904453  12.458648   \n",
       "\n",
       "   metrostn_count  minstay neighborhood  overall_satisfaction  price  \\\n",
       "0              13      3.0  Municipio 1                   2.0  167.0   \n",
       "1              13      3.0  Municipio 1                   4.5  121.0   \n",
       "\n",
       "   rest_count  reviews  review_count  room_id        room_type  \n",
       "0          77        0        140078  6408911  Entire home/apt  \n",
       "1          77       20        140078  2185484  Entire home/apt  "
      ]
     },
     "execution_count": 43,
     "metadata": {},
     "output_type": "execute_result"
    }
   ],
   "source": [
    "df.head(2)"
   ]
  },
  {
   "cell_type": "code",
   "execution_count": 44,
   "metadata": {
    "collapsed": true
   },
   "outputs": [],
   "source": [
    "df['residuals'] = residuals_all"
   ]
  },
  {
   "cell_type": "code",
   "execution_count": 45,
   "metadata": {
    "collapsed": false
   },
   "outputs": [
    {
     "data": {
      "text/plain": [
       "(15585, 18)"
      ]
     },
     "execution_count": 45,
     "metadata": {},
     "output_type": "execute_result"
    }
   ],
   "source": [
    "df.shape"
   ]
  },
  {
   "cell_type": "code",
   "execution_count": 46,
   "metadata": {
    "collapsed": false
   },
   "outputs": [],
   "source": [
    "df = df[df['residuals']<0]"
   ]
  },
  {
   "cell_type": "code",
   "execution_count": 47,
   "metadata": {
    "collapsed": false
   },
   "outputs": [],
   "source": [
    "df = df.reset_index(drop=True)"
   ]
  },
  {
   "cell_type": "code",
   "execution_count": 48,
   "metadata": {
    "collapsed": false
   },
   "outputs": [
    {
     "data": {
      "text/html": [
       "<div>\n",
       "<table border=\"1\" class=\"dataframe\">\n",
       "  <thead>\n",
       "    <tr style=\"text-align: right;\">\n",
       "      <th></th>\n",
       "      <th>bathrooms</th>\n",
       "      <th>bedrooms</th>\n",
       "      <th>bhk</th>\n",
       "      <th>dist_arprt</th>\n",
       "      <th>host_count</th>\n",
       "      <th>latitude</th>\n",
       "      <th>longitude</th>\n",
       "      <th>metrostn_count</th>\n",
       "      <th>minstay</th>\n",
       "      <th>neighborhood</th>\n",
       "      <th>overall_satisfaction</th>\n",
       "      <th>price</th>\n",
       "      <th>rest_count</th>\n",
       "      <th>reviews</th>\n",
       "      <th>review_count</th>\n",
       "      <th>room_id</th>\n",
       "      <th>room_type</th>\n",
       "      <th>residuals</th>\n",
       "    </tr>\n",
       "  </thead>\n",
       "  <tbody>\n",
       "    <tr>\n",
       "      <th>0</th>\n",
       "      <td>1.0</td>\n",
       "      <td>1.0</td>\n",
       "      <td>1.0</td>\n",
       "      <td>0.251722</td>\n",
       "      <td>8989</td>\n",
       "      <td>41.893496</td>\n",
       "      <td>12.510137</td>\n",
       "      <td>13</td>\n",
       "      <td>1.0</td>\n",
       "      <td>Municipio 1</td>\n",
       "      <td>2.0</td>\n",
       "      <td>89.0</td>\n",
       "      <td>77</td>\n",
       "      <td>0</td>\n",
       "      <td>140078</td>\n",
       "      <td>2195553</td>\n",
       "      <td>Private room</td>\n",
       "      <td>-0.805360</td>\n",
       "    </tr>\n",
       "    <tr>\n",
       "      <th>1</th>\n",
       "      <td>1.0</td>\n",
       "      <td>1.0</td>\n",
       "      <td>1.0</td>\n",
       "      <td>0.251722</td>\n",
       "      <td>8989</td>\n",
       "      <td>41.893488</td>\n",
       "      <td>12.464743</td>\n",
       "      <td>13</td>\n",
       "      <td>3.0</td>\n",
       "      <td>Municipio 1</td>\n",
       "      <td>5.0</td>\n",
       "      <td>104.0</td>\n",
       "      <td>77</td>\n",
       "      <td>27</td>\n",
       "      <td>140078</td>\n",
       "      <td>2212712</td>\n",
       "      <td>Entire home/apt</td>\n",
       "      <td>-2.221012</td>\n",
       "    </tr>\n",
       "  </tbody>\n",
       "</table>\n",
       "</div>"
      ],
      "text/plain": [
       "   bathrooms  bedrooms  bhk  dist_arprt  host_count   latitude  longitude  \\\n",
       "0        1.0       1.0  1.0    0.251722        8989  41.893496  12.510137   \n",
       "1        1.0       1.0  1.0    0.251722        8989  41.893488  12.464743   \n",
       "\n",
       "   metrostn_count  minstay neighborhood  overall_satisfaction  price  \\\n",
       "0              13      1.0  Municipio 1                   2.0   89.0   \n",
       "1              13      3.0  Municipio 1                   5.0  104.0   \n",
       "\n",
       "   rest_count  reviews  review_count  room_id        room_type  residuals  \n",
       "0          77        0        140078  2195553     Private room  -0.805360  \n",
       "1          77       27        140078  2212712  Entire home/apt  -2.221012  "
      ]
     },
     "execution_count": 48,
     "metadata": {},
     "output_type": "execute_result"
    }
   ],
   "source": [
    "df.head(2)"
   ]
  },
  {
   "cell_type": "code",
   "execution_count": 49,
   "metadata": {
    "collapsed": true
   },
   "outputs": [],
   "source": [
    "df.to_csv(path_or_buf='/Users/jyots/Desktop/DS_Projects/airbnb_datasets/Rome_dfwithres.csv')"
   ]
  },
  {
   "cell_type": "code",
   "execution_count": null,
   "metadata": {
    "collapsed": true
   },
   "outputs": [],
   "source": []
  }
 ],
 "metadata": {
  "anaconda-cloud": {},
  "kernelspec": {
   "display_name": "Python [conda env:dsi]",
   "language": "python",
   "name": "conda-env-dsi-py"
  },
  "language_info": {
   "codemirror_mode": {
    "name": "ipython",
    "version": 2
   },
   "file_extension": ".py",
   "mimetype": "text/x-python",
   "name": "python",
   "nbconvert_exporter": "python",
   "pygments_lexer": "ipython2",
   "version": "2.7.12"
  }
 },
 "nbformat": 4,
 "nbformat_minor": 1
}
