{
 "cells": [
  {
   "cell_type": "code",
   "execution_count": 1,
   "metadata": {
    "collapsed": true
   },
   "outputs": [],
   "source": [
    "import numpy as np\n",
    "import scipy.stats as stats\n",
    "import seaborn as sns\n",
    "import matplotlib.pyplot as plt\n",
    "import pandas as pd\n",
    "from sklearn import preprocessing\n",
    "\n",
    "sns.set_style('whitegrid')\n",
    "\n",
    "%config InlineBackend.figure_format = 'retina'\n",
    "%matplotlib inline"
   ]
  },
  {
   "cell_type": "code",
   "execution_count": 2,
   "metadata": {
    "collapsed": true
   },
   "outputs": [],
   "source": [
    "barcelona = pd.read_csv('/Users/jyots/Desktop/DSI-SF-4-Jyojha/Capstone_Project/airbnb_DataSets/Airbnb listings in Barcelona (November 2015).csv',\n",
    "                   encoding='utf8')"
   ]
  },
  {
   "cell_type": "code",
   "execution_count": 3,
   "metadata": {
    "collapsed": false
   },
   "outputs": [
    {
     "name": "stdout",
     "output_type": "stream",
     "text": [
      "<class 'pandas.core.frame.DataFrame'>\n",
      "RangeIndex: 14012 entries, 0 to 14011\n",
      "Data columns (total 16 columns):\n",
      "Unnamed: 0              14012 non-null int64\n",
      "room_id                 14012 non-null int64\n",
      "host_id                 14012 non-null int64\n",
      "room_type               14004 non-null object\n",
      "borough                 0 non-null float64\n",
      "neighborhood            14012 non-null object\n",
      "reviews                 14012 non-null int64\n",
      "overall_satisfaction    11311 non-null float64\n",
      "accommodates            11330 non-null float64\n",
      "bedrooms                13981 non-null float64\n",
      "bathrooms               12875 non-null float64\n",
      "price                   14012 non-null float64\n",
      "minstay                 12961 non-null float64\n",
      "latitude                14012 non-null float64\n",
      "longitude               14012 non-null float64\n",
      "collected               14012 non-null object\n",
      "dtypes: float64(9), int64(4), object(3)\n",
      "memory usage: 1.7+ MB\n"
     ]
    }
   ],
   "source": [
    "barcelona.info()"
   ]
  },
  {
   "cell_type": "code",
   "execution_count": 5,
   "metadata": {
    "collapsed": false
   },
   "outputs": [],
   "source": [
    "barcelona.drop('borough',axis=1,inplace=True)"
   ]
  },
  {
   "cell_type": "code",
   "execution_count": 6,
   "metadata": {
    "collapsed": false
   },
   "outputs": [
    {
     "data": {
      "text/plain": [
       "array([u'Ciutat Vella', u'Eixample', u'Sant Mart\\ufffd', u'Nou Barris',\n",
       "       u'Horta-Guinard\\ufffd', u'Gr\\ufffdcia', u'Sants-Montju\\ufffdc',\n",
       "       u'Sant Andreu', u'Sarri\\ufffd-Sant Gervasi', u'Les Corts'], dtype=object)"
      ]
     },
     "execution_count": 6,
     "metadata": {},
     "output_type": "execute_result"
    }
   ],
   "source": [
    "barcelona.neighborhood.unique()"
   ]
  },
  {
   "cell_type": "code",
   "execution_count": null,
   "metadata": {
    "collapsed": true
   },
   "outputs": [],
   "source": []
  }
 ],
 "metadata": {
  "kernelspec": {
   "display_name": "Python [conda env:dsi]",
   "language": "python",
   "name": "conda-env-dsi-py"
  },
  "language_info": {
   "codemirror_mode": {
    "name": "ipython",
    "version": 2
   },
   "file_extension": ".py",
   "mimetype": "text/x-python",
   "name": "python",
   "nbconvert_exporter": "python",
   "pygments_lexer": "ipython2",
   "version": "2.7.12"
  }
 },
 "nbformat": 4,
 "nbformat_minor": 1
}
