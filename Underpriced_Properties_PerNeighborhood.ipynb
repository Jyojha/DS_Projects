{
 "cells": [
  {
   "cell_type": "code",
   "execution_count": 1,
   "metadata": {
    "collapsed": true
   },
   "outputs": [],
   "source": [
    "import numpy as np\n",
    "import scipy.stats as stats\n",
    "import seaborn as sns\n",
    "import matplotlib.pyplot as plt\n",
    "import pandas as pd\n",
    "from sklearn import preprocessing\n",
    "import math\n",
    "\n",
    "sns.set_style('whitegrid')\n",
    "\n",
    "%config InlineBackend.figure_format = 'retina'\n",
    "%matplotlib inline"
   ]
  },
  {
   "cell_type": "code",
   "execution_count": 2,
   "metadata": {
    "collapsed": false
   },
   "outputs": [],
   "source": [
    "barcelona = pd.read_csv('/Users/jyots/Desktop/DS_Projects/airbnb_DataSets/Barcelona_dfwithres.csv',\n",
    "                   encoding='utf8')\n",
    "berlin = pd.read_csv('/Users/jyots/Desktop/DS_Projects/airbnb_DataSets/Berlin_dfwithres.csv',\n",
    "                   encoding='utf8')\n",
    "copenhagen = pd.read_csv('/Users/jyots/Desktop/DS_Projects/airbnb_DataSets/Copenhagen_dfwithres.csv',\n",
    "                   encoding='utf8')\n",
    "paris = pd.read_csv('/Users/jyots/Desktop/DS_Projects/airbnb_DataSets/Paris_dfwithres.csv',\n",
    "                   encoding='utf8')\n",
    "rome = pd.read_csv('/Users/jyots/Desktop/DS_Projects/airbnb_DataSets/Rome_dfwithres.csv',\n",
    "                   encoding='utf8')"
   ]
  },
  {
   "cell_type": "code",
   "execution_count": 3,
   "metadata": {
    "collapsed": true
   },
   "outputs": [],
   "source": [
    "def preprocess(city):\n",
    "    city.sort_values('residuals',inplace=True)\n",
    "    city = city.reset_index(drop=True)\n",
    "    city.drop('Unnamed: 0',axis=1, inplace=True)\n",
    "    return city\n",
    "    "
   ]
  },
  {
   "cell_type": "code",
   "execution_count": 4,
   "metadata": {
    "collapsed": false
   },
   "outputs": [],
   "source": [
    "def top_undp_prop(bedrooms,bathrooms,room_type,neighborhood,city):\n",
    "    df = city[['residuals','latitude','longitude','room_id','bedrooms','bathrooms','room_type','price','neighborhood']][city.neighborhood == neighborhood]\n",
    "    tmp = df[df['bedrooms']== bedrooms][df['bathrooms']== bathrooms][df['room_type']== room_type].iloc[0:3,:]\n",
    "    return tmp\n",
    "    "
   ]
  },
  {
   "cell_type": "code",
   "execution_count": 5,
   "metadata": {
    "collapsed": false
   },
   "outputs": [
    {
     "name": "stderr",
     "output_type": "stream",
     "text": [
      "/Users/Jyots/anaconda/envs/dsi/lib/python2.7/site-packages/ipykernel/__main__.py:3: UserWarning: Boolean Series key will be reindexed to match DataFrame index.\n",
      "  app.launch_new_instance()\n"
     ]
    },
    {
     "data": {
      "text/html": [
       "<div>\n",
       "<table border=\"1\" class=\"dataframe\">\n",
       "  <thead>\n",
       "    <tr style=\"text-align: right;\">\n",
       "      <th></th>\n",
       "      <th>residuals</th>\n",
       "      <th>latitude</th>\n",
       "      <th>longitude</th>\n",
       "      <th>room_id</th>\n",
       "      <th>bedrooms</th>\n",
       "      <th>bathrooms</th>\n",
       "      <th>room_type</th>\n",
       "      <th>price</th>\n",
       "      <th>neighborhood</th>\n",
       "    </tr>\n",
       "  </thead>\n",
       "  <tbody>\n",
       "    <tr>\n",
       "      <th>741</th>\n",
       "      <td>-74.979821</td>\n",
       "      <td>48.886190</td>\n",
       "      <td>2.385672</td>\n",
       "      <td>6737362</td>\n",
       "      <td>3.0</td>\n",
       "      <td>1.0</td>\n",
       "      <td>Entire home/apt</td>\n",
       "      <td>67.0</td>\n",
       "      <td>Amerique</td>\n",
       "    </tr>\n",
       "    <tr>\n",
       "      <th>1391</th>\n",
       "      <td>-59.480424</td>\n",
       "      <td>48.875962</td>\n",
       "      <td>2.392283</td>\n",
       "      <td>532166</td>\n",
       "      <td>3.0</td>\n",
       "      <td>1.0</td>\n",
       "      <td>Entire home/apt</td>\n",
       "      <td>79.0</td>\n",
       "      <td>Amerique</td>\n",
       "    </tr>\n",
       "    <tr>\n",
       "      <th>2835</th>\n",
       "      <td>-44.378908</td>\n",
       "      <td>48.886482</td>\n",
       "      <td>2.388402</td>\n",
       "      <td>2589913</td>\n",
       "      <td>3.0</td>\n",
       "      <td>1.0</td>\n",
       "      <td>Entire home/apt</td>\n",
       "      <td>101.0</td>\n",
       "      <td>Amerique</td>\n",
       "    </tr>\n",
       "  </tbody>\n",
       "</table>\n",
       "</div>"
      ],
      "text/plain": [
       "      residuals   latitude  longitude  room_id  bedrooms  bathrooms  \\\n",
       "741  -74.979821  48.886190   2.385672  6737362       3.0        1.0   \n",
       "1391 -59.480424  48.875962   2.392283   532166       3.0        1.0   \n",
       "2835 -44.378908  48.886482   2.388402  2589913       3.0        1.0   \n",
       "\n",
       "            room_type  price neighborhood  \n",
       "741   Entire home/apt   67.0     Amerique  \n",
       "1391  Entire home/apt   79.0     Amerique  \n",
       "2835  Entire home/apt  101.0     Amerique  "
      ]
     },
     "execution_count": 5,
     "metadata": {},
     "output_type": "execute_result"
    }
   ],
   "source": [
    "city = paris\n",
    "city = preprocess(city)\n",
    "out = top_undp_prop(3,1,'Entire home/apt','Amerique',city)\n",
    "out\n"
   ]
  },
  {
   "cell_type": "code",
   "execution_count": 6,
   "metadata": {
    "collapsed": true
   },
   "outputs": [],
   "source": [
    "def top_undp_prop_alln(bedrooms,bathrooms,room_type,city):\n",
    "    df = city[['residuals','latitude','longitude','room_id','bedrooms','bathrooms','room_type','price','neighborhood']]\n",
    "    tmp = df[df['bedrooms']== bedrooms][df['bathrooms']== bathrooms][df['room_type']== room_type].iloc[0:3,:]\n",
    "    return tmp\n",
    "    "
   ]
  },
  {
   "cell_type": "code",
   "execution_count": 8,
   "metadata": {
    "collapsed": false
   },
   "outputs": [
    {
     "name": "stderr",
     "output_type": "stream",
     "text": [
      "/Users/Jyots/anaconda/envs/dsi/lib/python2.7/site-packages/ipykernel/__main__.py:3: UserWarning: Boolean Series key will be reindexed to match DataFrame index.\n",
      "  app.launch_new_instance()\n"
     ]
    },
    {
     "data": {
      "text/html": [
       "<div>\n",
       "<table border=\"1\" class=\"dataframe\">\n",
       "  <thead>\n",
       "    <tr style=\"text-align: right;\">\n",
       "      <th></th>\n",
       "      <th>residuals</th>\n",
       "      <th>latitude</th>\n",
       "      <th>longitude</th>\n",
       "      <th>room_id</th>\n",
       "      <th>bedrooms</th>\n",
       "      <th>bathrooms</th>\n",
       "      <th>room_type</th>\n",
       "      <th>price</th>\n",
       "      <th>neighborhood</th>\n",
       "    </tr>\n",
       "  </thead>\n",
       "  <tbody>\n",
       "    <tr>\n",
       "      <th>17</th>\n",
       "      <td>-127.153028</td>\n",
       "      <td>55.683053</td>\n",
       "      <td>12.564427</td>\n",
       "      <td>7177323</td>\n",
       "      <td>3.0</td>\n",
       "      <td>1.0</td>\n",
       "      <td>Entire home/apt</td>\n",
       "      <td>78.0</td>\n",
       "      <td>Indre By</td>\n",
       "    </tr>\n",
       "    <tr>\n",
       "      <th>28</th>\n",
       "      <td>-113.029196</td>\n",
       "      <td>55.686896</td>\n",
       "      <td>12.614720</td>\n",
       "      <td>11716067</td>\n",
       "      <td>3.0</td>\n",
       "      <td>1.0</td>\n",
       "      <td>Entire home/apt</td>\n",
       "      <td>92.0</td>\n",
       "      <td>Indre By</td>\n",
       "    </tr>\n",
       "    <tr>\n",
       "      <th>32</th>\n",
       "      <td>-109.276778</td>\n",
       "      <td>55.692836</td>\n",
       "      <td>12.577370</td>\n",
       "      <td>315836</td>\n",
       "      <td>3.0</td>\n",
       "      <td>1.0</td>\n",
       "      <td>Entire home/apt</td>\n",
       "      <td>82.0</td>\n",
       "      <td>Indre By</td>\n",
       "    </tr>\n",
       "  </tbody>\n",
       "</table>\n",
       "</div>"
      ],
      "text/plain": [
       "     residuals   latitude  longitude   room_id  bedrooms  bathrooms  \\\n",
       "17 -127.153028  55.683053  12.564427   7177323       3.0        1.0   \n",
       "28 -113.029196  55.686896  12.614720  11716067       3.0        1.0   \n",
       "32 -109.276778  55.692836  12.577370    315836       3.0        1.0   \n",
       "\n",
       "          room_type  price neighborhood  \n",
       "17  Entire home/apt   78.0     Indre By  \n",
       "28  Entire home/apt   92.0     Indre By  \n",
       "32  Entire home/apt   82.0     Indre By  "
      ]
     },
     "execution_count": 8,
     "metadata": {},
     "output_type": "execute_result"
    }
   ],
   "source": [
    "city = copenhagen\n",
    "city = preprocess(city)\n",
    "out_alln = top_undp_prop_alln(3,1,'Entire home/apt',city)\n",
    "out_alln\n"
   ]
  },
  {
   "cell_type": "code",
   "execution_count": null,
   "metadata": {
    "collapsed": true
   },
   "outputs": [],
   "source": []
  }
 ],
 "metadata": {
  "anaconda-cloud": {},
  "kernelspec": {
   "display_name": "Python [conda env:dsi]",
   "language": "python",
   "name": "conda-env-dsi-py"
  },
  "language_info": {
   "codemirror_mode": {
    "name": "ipython",
    "version": 2
   },
   "file_extension": ".py",
   "mimetype": "text/x-python",
   "name": "python",
   "nbconvert_exporter": "python",
   "pygments_lexer": "ipython2",
   "version": "2.7.12"
  }
 },
 "nbformat": 4,
 "nbformat_minor": 1
}
