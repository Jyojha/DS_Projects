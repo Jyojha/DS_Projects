{
 "cells": [
  {
   "cell_type": "code",
   "execution_count": 1,
   "metadata": {
    "collapsed": true
   },
   "outputs": [],
   "source": [
    "import numpy as np\n",
    "import scipy.stats as stats\n",
    "import seaborn as sns\n",
    "import matplotlib.pyplot as plt\n",
    "import pandas as pd\n",
    "from sklearn import preprocessing\n",
    "import math\n",
    "\n",
    "sns.set_style('whitegrid')\n",
    "\n",
    "%config InlineBackend.figure_format = 'retina'\n",
    "%matplotlib inline"
   ]
  },
  {
   "cell_type": "code",
   "execution_count": 2,
   "metadata": {
    "collapsed": false
   },
   "outputs": [],
   "source": [
    "barcelona = pd.read_csv('/Users/jyots/Desktop/DS_Projects/airbnb_DataSets/Barcelona_dfwithres.csv',\n",
    "                   encoding='utf8')\n",
    "berlin = pd.read_csv('/Users/jyots/Desktop/DS_Projects/airbnb_DataSets/Berlin_dfwithres.csv',\n",
    "                   encoding='utf8')\n",
    "copenhagen = pd.read_csv('/Users/jyots/Desktop/DS_Projects/airbnb_DataSets/Copenhagen_dfwithres.csv',\n",
    "                   encoding='utf8')\n",
    "paris = pd.read_csv('/Users/jyots/Desktop/DS_Projects/airbnb_DataSets/Paris_dfwithres.csv',\n",
    "                   encoding='utf8')\n",
    "rome = pd.read_csv('/Users/jyots/Desktop/DS_Projects/airbnb_DataSets/Rome_dfwithres.csv',\n",
    "                   encoding='utf8')"
   ]
  },
  {
   "cell_type": "code",
   "execution_count": 3,
   "metadata": {
    "collapsed": true
   },
   "outputs": [],
   "source": [
    "def preprocess(city):\n",
    "    city.sort_values('residuals',inplace=True)\n",
    "    city = city.reset_index(drop=True)\n",
    "    city.drop('Unnamed: 0',axis=1, inplace=True)\n",
    "    return city\n",
    "    "
   ]
  },
  {
   "cell_type": "code",
   "execution_count": 4,
   "metadata": {
    "collapsed": false
   },
   "outputs": [],
   "source": [
    "def top_undp_prop(bedrooms,bathrooms,room_type,neighborhood,city):\n",
    "    df = city[['residuals','latitude','longitude','room_id','bedrooms','bathrooms','room_type','price','neighborhood']][city.neighborhood == neighborhood]\n",
    "    tmp = df[df['bedrooms']== bedrooms][df['bathrooms']== bathrooms][df['room_type']== room_type].iloc[0:3,:]\n",
    "    return tmp\n",
    "    "
   ]
  },
  {
   "cell_type": "code",
   "execution_count": 5,
   "metadata": {
    "collapsed": false
   },
   "outputs": [
    {
     "name": "stderr",
     "output_type": "stream",
     "text": [
      "/Users/Jyots/anaconda/envs/dsi/lib/python2.7/site-packages/ipykernel/__main__.py:3: UserWarning: Boolean Series key will be reindexed to match DataFrame index.\n",
      "  app.launch_new_instance()\n"
     ]
    },
    {
     "data": {
      "text/html": [
       "<div>\n",
       "<table border=\"1\" class=\"dataframe\">\n",
       "  <thead>\n",
       "    <tr style=\"text-align: right;\">\n",
       "      <th></th>\n",
       "      <th>residuals</th>\n",
       "      <th>latitude</th>\n",
       "      <th>longitude</th>\n",
       "      <th>room_id</th>\n",
       "      <th>bedrooms</th>\n",
       "      <th>bathrooms</th>\n",
       "      <th>room_type</th>\n",
       "      <th>price</th>\n",
       "      <th>neighborhood</th>\n",
       "    </tr>\n",
       "  </thead>\n",
       "  <tbody>\n",
       "    <tr>\n",
       "      <th>694</th>\n",
       "      <td>-76.732222</td>\n",
       "      <td>48.886190</td>\n",
       "      <td>2.385672</td>\n",
       "      <td>6737362</td>\n",
       "      <td>3.0</td>\n",
       "      <td>1.0</td>\n",
       "      <td>Entire home/apt</td>\n",
       "      <td>67.0</td>\n",
       "      <td>Amerique</td>\n",
       "    </tr>\n",
       "    <tr>\n",
       "      <th>1300</th>\n",
       "      <td>-61.107408</td>\n",
       "      <td>48.875962</td>\n",
       "      <td>2.392283</td>\n",
       "      <td>532166</td>\n",
       "      <td>3.0</td>\n",
       "      <td>1.0</td>\n",
       "      <td>Entire home/apt</td>\n",
       "      <td>79.0</td>\n",
       "      <td>Amerique</td>\n",
       "    </tr>\n",
       "    <tr>\n",
       "      <th>2533</th>\n",
       "      <td>-47.028573</td>\n",
       "      <td>48.886482</td>\n",
       "      <td>2.388402</td>\n",
       "      <td>2589913</td>\n",
       "      <td>3.0</td>\n",
       "      <td>1.0</td>\n",
       "      <td>Entire home/apt</td>\n",
       "      <td>101.0</td>\n",
       "      <td>Amerique</td>\n",
       "    </tr>\n",
       "  </tbody>\n",
       "</table>\n",
       "</div>"
      ],
      "text/plain": [
       "      residuals   latitude  longitude  room_id  bedrooms  bathrooms  \\\n",
       "694  -76.732222  48.886190   2.385672  6737362       3.0        1.0   \n",
       "1300 -61.107408  48.875962   2.392283   532166       3.0        1.0   \n",
       "2533 -47.028573  48.886482   2.388402  2589913       3.0        1.0   \n",
       "\n",
       "            room_type  price neighborhood  \n",
       "694   Entire home/apt   67.0     Amerique  \n",
       "1300  Entire home/apt   79.0     Amerique  \n",
       "2533  Entire home/apt  101.0     Amerique  "
      ]
     },
     "execution_count": 5,
     "metadata": {},
     "output_type": "execute_result"
    }
   ],
   "source": [
    "city = paris\n",
    "city = preprocess(city)\n",
    "out = top_undp_prop(3,1,'Entire home/apt','Amerique',city)\n",
    "out\n"
   ]
  },
  {
   "cell_type": "code",
   "execution_count": 6,
   "metadata": {
    "collapsed": true
   },
   "outputs": [],
   "source": [
    "def top_undp_prop_alln(bedrooms,bathrooms,room_type,city):\n",
    "    df = city[['residuals','latitude','longitude','room_id','bedrooms','bathrooms','room_type','price','neighborhood']]\n",
    "    tmp = df[df['bedrooms']== bedrooms][df['bathrooms']== bathrooms][df['room_type']== room_type].iloc[0:3,:]\n",
    "    return tmp\n",
    "    "
   ]
  },
  {
   "cell_type": "code",
   "execution_count": 9,
   "metadata": {
    "collapsed": false
   },
   "outputs": [
    {
     "name": "stderr",
     "output_type": "stream",
     "text": [
      "/Users/Jyots/anaconda/envs/dsi/lib/python2.7/site-packages/ipykernel/__main__.py:3: UserWarning: Boolean Series key will be reindexed to match DataFrame index.\n",
      "  app.launch_new_instance()\n"
     ]
    },
    {
     "data": {
      "text/html": [
       "<div>\n",
       "<table border=\"1\" class=\"dataframe\">\n",
       "  <thead>\n",
       "    <tr style=\"text-align: right;\">\n",
       "      <th></th>\n",
       "      <th>residuals</th>\n",
       "      <th>latitude</th>\n",
       "      <th>longitude</th>\n",
       "      <th>room_id</th>\n",
       "      <th>bedrooms</th>\n",
       "      <th>bathrooms</th>\n",
       "      <th>room_type</th>\n",
       "      <th>price</th>\n",
       "      <th>neighborhood</th>\n",
       "    </tr>\n",
       "  </thead>\n",
       "  <tbody>\n",
       "    <tr>\n",
       "      <th>34</th>\n",
       "      <td>-119.048428</td>\n",
       "      <td>41.915750</td>\n",
       "      <td>12.454097</td>\n",
       "      <td>7509794</td>\n",
       "      <td>3.0</td>\n",
       "      <td>1.0</td>\n",
       "      <td>Entire home/apt</td>\n",
       "      <td>52.0</td>\n",
       "      <td>Municipio 1</td>\n",
       "    </tr>\n",
       "    <tr>\n",
       "      <th>49</th>\n",
       "      <td>-105.640119</td>\n",
       "      <td>41.908474</td>\n",
       "      <td>12.450097</td>\n",
       "      <td>4413081</td>\n",
       "      <td>3.0</td>\n",
       "      <td>1.0</td>\n",
       "      <td>Entire home/apt</td>\n",
       "      <td>68.0</td>\n",
       "      <td>Municipio 1</td>\n",
       "    </tr>\n",
       "    <tr>\n",
       "      <th>69</th>\n",
       "      <td>-95.640119</td>\n",
       "      <td>41.895791</td>\n",
       "      <td>12.493713</td>\n",
       "      <td>663834</td>\n",
       "      <td>3.0</td>\n",
       "      <td>1.0</td>\n",
       "      <td>Entire home/apt</td>\n",
       "      <td>78.0</td>\n",
       "      <td>Municipio 1</td>\n",
       "    </tr>\n",
       "  </tbody>\n",
       "</table>\n",
       "</div>"
      ],
      "text/plain": [
       "     residuals   latitude  longitude  room_id  bedrooms  bathrooms  \\\n",
       "34 -119.048428  41.915750  12.454097  7509794       3.0        1.0   \n",
       "49 -105.640119  41.908474  12.450097  4413081       3.0        1.0   \n",
       "69  -95.640119  41.895791  12.493713   663834       3.0        1.0   \n",
       "\n",
       "          room_type  price neighborhood  \n",
       "34  Entire home/apt   52.0  Municipio 1  \n",
       "49  Entire home/apt   68.0  Municipio 1  \n",
       "69  Entire home/apt   78.0  Municipio 1  "
      ]
     },
     "execution_count": 9,
     "metadata": {},
     "output_type": "execute_result"
    }
   ],
   "source": [
    "city = rome\n",
    "city = preprocess(city)\n",
    "out_alln = top_undp_prop_alln(3,1,'Entire home/apt',city)\n",
    "out_alln\n"
   ]
  },
  {
   "cell_type": "code",
   "execution_count": null,
   "metadata": {
    "collapsed": true
   },
   "outputs": [],
   "source": []
  }
 ],
 "metadata": {
  "anaconda-cloud": {},
  "kernelspec": {
   "display_name": "Python [conda env:dsi]",
   "language": "python",
   "name": "conda-env-dsi-py"
  },
  "language_info": {
   "codemirror_mode": {
    "name": "ipython",
    "version": 2
   },
   "file_extension": ".py",
   "mimetype": "text/x-python",
   "name": "python",
   "nbconvert_exporter": "python",
   "pygments_lexer": "ipython2",
   "version": "2.7.12"
  }
 },
 "nbformat": 4,
 "nbformat_minor": 1
}
