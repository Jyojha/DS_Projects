{
 "cells": [
  {
   "cell_type": "markdown",
   "metadata": {},
   "source": [
    "## Airbnb Host and Guest Assistant\n",
    "\n",
    "\n",
    "### Property Price Predictor for Airbnb HOSTS and Undervalued Property recommender for Airbnb GUESTS\n",
    "\n",
    "\n"
   ]
  },
  {
   "cell_type": "markdown",
   "metadata": {},
   "source": [
    "### Problem:\n",
    "\n",
    "Airbnb provides platform and payment tools for hosts to publish their property listings and charge their potential customers. For a first time Airbnb host, this set-up which also includes finding the \"price per night\" sweet spot, such that, the property is attractive to guests in terms of pricing and profitable for hosts, might be an overwhelming experience. \n",
    "At present, Airbnb does not provide a \"potential price predictor\" to hosts as per this link:\n",
    "\n",
    "https://www.airbnb.com/help/article/52/how-should-i-choose-my-listing-s-price\n",
    "\n",
    "Additionally, within a city and neighborhood, there could be several undervalued properties. These can be very attractive for tourists on a budget. Currently, Airbnb does not provide a tool to sort these underpriced real estates.\n"
   ]
  },
  {
   "cell_type": "markdown",
   "metadata": {},
   "source": [
    "### Data:\n",
    "\n",
    "I picked the cities based on the top 10 Airbnb cities by maximum number of host listings and by maximum number of host listings per 1000 inhabitants as per information at this link:\n",
    "\n",
    "http://getpaidforyourpad.com/blog/top-ten-airbnb-cities/\n",
    "\n",
    "Europe topped the list with maximum city count across continents.For the purpose of this project, I chose the 5 european cities that populated both the above lists. \n",
    "\n",
    "They are:\n",
    "\n",
    "- Barcelona\n",
    "- Berlin\n",
    "- Copenhagen\n",
    "- Paris\n",
    "- Rome\n",
    "\n",
    "I used publically available dataset in .csv format from the following website:\n",
    "\n",
    "http://tomslee.net/airbnb-data-collection-get-the-data\n",
    "\n"
   ]
  },
  {
   "cell_type": "markdown",
   "metadata": {},
   "source": [
    "### Data Cleaning\n",
    "\n",
    "Since the data has been collected by a single person, I found similar problems around the data across all the 5 cities. They are as following:\n",
    "\n",
    "- 100% missing data in the 'borough' column\n",
    "- The 'neighborhood' column had entries in local language\n",
    "- The 'accommodates' column had more than 40% missing data\n",
    "\n",
    "I took the follwoing steps to clean the data:\n",
    "\n",
    "- The 'borough' column was dropped from the dataset.\n",
    "- Matched and replaced the entries in the 'neighborhood' column with English names as datatype string.\n",
    "- Kept the 'accommodate' column to try out imputation.\n",
    "\n"
   ]
  },
  {
   "cell_type": "markdown",
   "metadata": {},
   "source": [
    "### Exploratory Data Analysis\n",
    "\n",
    "\n",
    "The same methods with minor tweaks were applied across all 5 cities. In this report, I am providing the code for the city of Rome since the same pipeline was used for other cities.\n",
    "\n",
    "The code file for Rome is [here](https://github.com/Jyojha/DS_Projects/blob/master/Rome_EDA_For_TechnicalReport.ipynb)\n",
    "\n",
    "\n",
    "\n",
    "#### The following steps were taken during EDA:\n",
    "\n",
    "- Rows where cells in the 'room_type' column were null were removed. \n",
    "\n",
    "  - Reasoning:\n",
    "  \n",
    "    The room-type had 3 categories:Shared Room, Private Room, Entire Home/Apt. Less than 1% of the cells in this     column had missing data, I tried to impute the missing cells based on the number of bedrooms. However, on further exploration, all the cells in the 'bedroom' column were null where the cells in the 'room_type\" column were null. Hence, I decided to drop the rows with missing values in the 'room_type' column.\n",
    "    \n",
    "\n",
    "- Rows where cells in the 'bedrooms' column were null were removed.\n",
    "\n",
    "  - Reasoning:\n",
    "  \n",
    "    Less than 1% of the cells in the column has missing data. There were no other column that could have been referred for imputing those cells.\n",
    "    \n",
    "\n",
    "- Rows where the cells in the 'bathrooms' column were 0 were removed.The missing values were imputed with the backfill method.\n",
    "  \n",
    "  - Reasoning:\n",
    "  \n",
    "    I am asssuming every listing will have atleast 1 bathroom. Based on my assumption, those rows were removed. They were less than 0.01% of the data. For imputation with the backfill method, I sorted the dataframe in ascending order on the 'bedrooms' column before imputing the values.\n",
    "    \n",
    "\n",
    "- The cells with missing values in the 'overall_satisfaction' column were imputed with the value 2.\n",
    "\n",
    "  - Reasoning:\n",
    "  \n",
    "    The count of unique reviews from the 'reviews' were obtained for the rows where the cells in the 'overall_satisfaction' column had null value. The count ranged from 0-5. When compared to the max review count in the 'reviews' column, this range was tiny and indicated the dissatisfaction of the guest. Hence, I decided to use a low score of 2 for the msising values in the overall_satisfaction column.\n",
    "    \n",
    "    \n",
    "- Rows where the cells in the 'minstay' column were null were imputed with the value 2.\n",
    "\n",
    "  - Reasoning:\n",
    "    \n",
    "    All of these 5 cities are among the top and hence have tourists all year round. A host has to spend on cleaning the place before a new guest arrives irrespective of the number of days the previous guest stays for. On further exploration, the bedrooms were obtained for rows where the 'minstay' column had null values. It was found that, the 'minstay' missing data was highest for 0 and 1 bedrooms and decreased as the number of bedrooms increased. From the perspective of the host, it would be more profitable if a guest stayed longer i.e. atleast 2 nights. Hence, the value 2 was used for imputing the missign data in the 'minstay' column. \n",
    "  \n",
    "    \n",
    "\n"
   ]
  },
  {
   "cell_type": "markdown",
   "metadata": {},
   "source": [
    "### EDA Plots for Rome\n",
    "\n",
    "I used the plots for the city of Rome to show the variations in different features. The trends were similar for each feature across different cities, hence the set of plots below represent the feature changes for Rome and other cities used in this project."
   ]
  },
  {
   "cell_type": "markdown",
   "metadata": {},
   "source": [
    "<img src=\"./Plots/Rome_Price_PerN.png\" width=\"600\" height=\"800\" />\n"
   ]
  },
  {
   "cell_type": "markdown",
   "metadata": {},
   "source": [
    "<img src=\"./Plots/Rome_Reviews_PerN.png\" width=\"600\" height=\"800\" />\n"
   ]
  },
  {
   "cell_type": "markdown",
   "metadata": {},
   "source": [
    "<img src=\"./Plots/Rome_host_list_PerN.png\" width=\"600\" height=\"800\" />\n"
   ]
  },
  {
   "cell_type": "markdown",
   "metadata": {},
   "source": [
    "The above plots show the correlation between the number of reviews in a neighborhood is directly proportional to the number of host listings in that neighborhood."
   ]
  },
  {
   "cell_type": "markdown",
   "metadata": {},
   "source": [
    "<img src=\"./Plots/Price_Bathroom_BoxPlot.png\" width=\"600\" height=\"800\" />\n"
   ]
  },
  {
   "cell_type": "markdown",
   "metadata": {},
   "source": [
    "<img src=\"./Plots/Price_Bedroom_BoxPlot.png\" width=\"600\" height=\"800\" />\n"
   ]
  },
  {
   "cell_type": "markdown",
   "metadata": {},
   "source": [
    "In the above two plots the price increases with increase in the bathroom and bedroom count but after a point, the price saturates or starts going down with the increase in the bathroom and bedroom count."
   ]
  },
  {
   "cell_type": "markdown",
   "metadata": {},
   "source": [
    "<img src=\"./Plots/Price_Review_ScatterPlot.png\" width=\"600\" height=\"800\" />\n"
   ]
  },
  {
   "cell_type": "markdown",
   "metadata": {},
   "source": [
    "#### Listings, Reviews, Price on the Same Plot\n",
    "We observe that the total host listings and reviews is strongly correlated."
   ]
  },
  {
   "cell_type": "markdown",
   "metadata": {},
   "source": [
    "<img src=\"./Plots/Bar_Plot_prh.png\" width=\"600\" height=\"800\" />\n"
   ]
  },
  {
   "cell_type": "markdown",
   "metadata": {},
   "source": [
    "#### Price Vs Number of Reviews Based on Room type"
   ]
  },
  {
   "cell_type": "markdown",
   "metadata": {},
   "source": [
    "![bar plot](./Plots/Price_Review_onRoomType.png)"
   ]
  },
  {
   "cell_type": "markdown",
   "metadata": {},
   "source": [
    "#### Price Vs Number of bedrooms Based on Room type"
   ]
  },
  {
   "cell_type": "markdown",
   "metadata": {},
   "source": [
    "![bar plot](./Plots/Rome_Bedrooms_PerN.png)"
   ]
  },
  {
   "cell_type": "markdown",
   "metadata": {},
   "source": [
    "#### PairPlot Showing Correlation Among the Features"
   ]
  },
  {
   "cell_type": "markdown",
   "metadata": {},
   "source": [
    "<img src=\"./Plots/Rome_PairPlot.png\" width=\"1000\" height=\"1000\" />\n"
   ]
  },
  {
   "cell_type": "markdown",
   "metadata": {},
   "source": [
    "The above plots indicate that price has a correlation with bedrooms and bathrooms which is quite belieavable. As the proerty price goes up with the area of the real estate."
   ]
  },
  {
   "cell_type": "markdown",
   "metadata": {},
   "source": [
    "### Feature Engineering\n",
    "\n",
    "The code file for Rome is [here](https://github.com/Jyojha/DS_Projects/blob/master/Rome_Feature_Engineering_For_Technical_Report.ipynb)\n",
    "\n",
    "\n",
    "Since the number of features that could be used for modeling was 7, I decided to create new features. I began with asking the question \"What factors does an average tourist look for while booking a place on vacation?\" According to Lonely Planet and Tripadvisor, they were:\n",
    "\n",
    "- easy access to public transportation\n",
    "- restaurants\n",
    "- distance from the airport\n",
    "- number of reviews a place has\n",
    "- safety\n",
    "\n",
    "In the interest of time, I looked for data on public transportation, restaurants, distance from the airport()from center of each neighborhood to the airport) and number of reviews for each neighborhood for all of the 5 cities. I could not find the safety or walking score. \n",
    "\n",
    "Hence, I added the following features based on each neighborhood for each city:\n",
    "- **metrostn_count**   (the number of metro stations in a neighborhood)\n",
    "- **rest_count**   (the number of restaurants in a neighborhood)\n",
    "- **dist_arprt**   (the distance of the main international airport from the center of each neighborhood)\n",
    "- **review_count**   (the number of reviews given by people in each neighborhood)\n",
    "- **host_count**   (the number of host listings in each neighborhood)\n",
    "\n",
    "\n",
    "### Feature Engineering Process\n",
    "\n",
    "The same methods with minor tweaks were applied across all 5 cities.\n",
    "\n",
    "#### Methods for metro station count, restaurant count, and airport distance for each neighborhood\n",
    "\n",
    "- In order to understand each city better, I decided to import the map of each city using folium. On top of that, I added the neighborhood boundaries for each neighborhood within a city.\n",
    "\n",
    "\n",
    "- Using .json file for the metro station and restaurant in a city, I added markers for each metro station and restaurant on the city map with neighborhood boundaries. For cities where I could not find the .json file online(Copenhagen, Berlin, Rome), I created my own .kml file using google maps API.\n",
    "\n",
    "\n",
    "- With the map above, I only needed to count the dots within each polygon to get the metro station and restaurant count for each neighborhood.To get the count, I used the python package \"Shapely\". Few of the cities(for example:Rome) had a mix of multipolygons and polygons as neighborhood shape in their .geojson file. I had to employ an extra processing step to get format for the multipolygon that could be easily read by Shapely.\n",
    "\n",
    "\n",
    "- To obtain the distance between the main airport and center of each neighborhood boundary,I used shapely to find the centroid of each polygon. Then I used the same package to calculate the point to point distance between the airport to the centroid of each neighborhood shape. \n",
    "\n",
    "\n",
    "#### Method for host_count and review_count\n",
    "\n",
    "- For host_count and review_count, I did a count of 'host_id' and sum of 'reviews' respectively for each neighborhood."
   ]
  },
  {
   "cell_type": "markdown",
   "metadata": {},
   "source": [
    "### Plots after Feature Engineering"
   ]
  },
  {
   "cell_type": "markdown",
   "metadata": {},
   "source": [
    "<img src=\"./Plots/Heat_Map_Rome.png\" width=\"600\" height=\"600\" />\n"
   ]
  },
  {
   "cell_type": "markdown",
   "metadata": {},
   "source": [
    "The heatmap above shows that price is not strongly correlated with any other the features. However, the review_count is strongly correlated to host_count, rest_count, and metrostn_count."
   ]
  },
  {
   "cell_type": "markdown",
   "metadata": {},
   "source": [
    "#### Maps"
   ]
  },
  {
   "cell_type": "markdown",
   "metadata": {},
   "source": [
    "<img src=\"./Plots/rome_map_price.png\" width=\"600\" height=\"600\" />\n"
   ]
  },
  {
   "cell_type": "markdown",
   "metadata": {},
   "source": [
    "The map above shows the average Price per Night in each neighborhood in Rome. The green marker indicates the lower range listings, orange marker indicates the medium range listings, and the red marker indicates the high range listing. Since the lower range listings are denser, it could be that one high priced property listing could be skewing the entire price range."
   ]
  },
  {
   "cell_type": "markdown",
   "metadata": {},
   "source": [
    "Metro Map of Rome"
   ]
  },
  {
   "cell_type": "markdown",
   "metadata": {},
   "source": [
    "<img src=\"./Plots/Rome_metro_map_nomarkers.png\" width=\"600\" height=\"600\" />\n"
   ]
  },
  {
   "cell_type": "markdown",
   "metadata": {},
   "source": [
    "The blue dots in the map indicate a metro station."
   ]
  },
  {
   "cell_type": "markdown",
   "metadata": {},
   "source": [
    "### Modeling\n",
    "\n",
    "#### Linear Regression with ElasticNet \n",
    "\n",
    "The code file for Rome is [here](https://github.com/Jyojha/DS_Projects/blob/master/Rome_RegularizedRegressionModel-Technical_Report.ipynb)\n",
    "\n",
    "\n",
    "- I am predicting the price per night in a neighborhood within a city. Since the price distribution follows the power law, I transformed the variable to its log form to obtain normal distribution on price as regression works better on symmetrical and normally distributed data. The above heatmap indicates there is not so strong correlation between the predictors. Also, the target variable shows somewhat strong correlation with 'bedrooms' and 'bathrooms'. I wanted to see the effect of the categorical features on the price as well.\n",
    "\n",
    "\n",
    "- I used ElasticNet for regularization as it captures the effects of both ridge and lasso methods for penalizing the feature coefficients. \n",
    "\n",
    "\n",
    "- To test the model on unknown data, the data was split to training and test data. 70% used for training the model. Perfromed Parametric Search with ElasticNet Cross Validation to get the optimized value for 'l1' and 'alpha' for best case R2 score. \n",
    "\n",
    "\n",
    "- For better fit, I converted the target variable, in this case, price per night, to its log value for modeling using numpy.\n",
    "\n",
    "\n",
    "- The R2 score for each city ranged between 0.49 - 0.62 on the test data. \n",
    "\n",
    "\n"
   ]
  },
  {
   "cell_type": "markdown",
   "metadata": {},
   "source": [
    "#### Features with High Positive Co-efficients"
   ]
  },
  {
   "cell_type": "markdown",
   "metadata": {},
   "source": [
    "<img src=\"./Plots/rome_pos_f.png\" width=\"600\" height=\"600\" />\n"
   ]
  },
  {
   "cell_type": "markdown",
   "metadata": {},
   "source": [
    "#### Features with High Negative Co-efficients"
   ]
  },
  {
   "cell_type": "markdown",
   "metadata": {},
   "source": [
    "<img src=\"./Plots/rome_neg_f.png\" width=\"600\" height=\"600\" />\n"
   ]
  },
  {
   "cell_type": "markdown",
   "metadata": {},
   "source": [
    "#### Random Forest Model\n",
    "\n",
    "The code file for Rome is [here](https://github.com/Jyojha/DS_Projects/blob/master/Rome_RandomForest-For-Technical_report.ipynb)\n",
    "\n",
    "\n",
    "\n",
    "- I decided to use the non-parametric modeling method \"Random Forest\" with the purpose of improving the R2 score. Since Random Forest algorithm averages out the variance across multiple estimators, it accounts for non-linearities in the predictors. Thus it could give improved R2 score for the model. This model would explain the variability in the new dataset to a larger degree.\n",
    "\n",
    "\n"
   ]
  },
  {
   "cell_type": "markdown",
   "metadata": {},
   "source": [
    "#### Features Importance from Random Forest"
   ]
  },
  {
   "cell_type": "markdown",
   "metadata": {},
   "source": [
    "<img src=\"./Plots/rome_fi_rf.png\" width=\"800\" height=\"600\" />\n"
   ]
  },
  {
   "cell_type": "markdown",
   "metadata": {},
   "source": [
    "The top 5 important features based on the regression co-efficients, obtained from ElasticNet Regression and Random Forest Regression, are pretty similar. This indicates that none of the predictor variables have non-linear relation with the target variable and that our regression model holds."
   ]
  },
  {
   "cell_type": "markdown",
   "metadata": {},
   "source": [
    "### Model Performance \n",
    "\n"
   ]
  },
  {
   "cell_type": "markdown",
   "metadata": {},
   "source": [
    "For Rome:\n",
    "\n",
    "| Parameter        | ElasticNet Regression | Random Forest Regressor |\n",
    "| ------------- |:-------------:| -----:|\n",
    "| R2      | 0.523235 | 0.541084 |\n",
    "| Time Taken| 0.17826     |    3.9209 "
   ]
  },
  {
   "cell_type": "markdown",
   "metadata": {},
   "source": [
    "For Paris:\n",
    "\n",
    "| Parameter        | ElasticNet Regression | Random Forest Regressor |\n",
    "| ------------- |:-------------:| -----:|\n",
    "| R2      | 0.587231 | 0.617580 |\n",
    "| Time Taken| 1.7776     |    67.2035"
   ]
  },
  {
   "cell_type": "markdown",
   "metadata": {},
   "source": [
    "For Copenhagen:\n",
    "\n",
    "| Parameter        | ElasticNet Regression | Random Forest Regressor |\n",
    "| ------------- |:-------------:| -----:|\n",
    "| R2      | 0.5295 | 0.5442 |\n",
    "| Time Taken| 0.08726     |    7.1886"
   ]
  },
  {
   "cell_type": "markdown",
   "metadata": {},
   "source": [
    "For Berlin:\n",
    "\n",
    "| Parameter        | ElasticNet Regression | Random Forest Regressor |\n",
    "| ------------- |:-------------:| -----:|\n",
    "| R2      | 0.49303 | 0.5122 |\n",
    "| Time Taken| 0.08182     |    8.0769"
   ]
  },
  {
   "cell_type": "markdown",
   "metadata": {},
   "source": [
    "For Barcelona:\n",
    "\n",
    "| Parameter        | ElasticNet Regression | Random Forest Regressor |\n",
    "| ------------- |:-------------:| -----:|\n",
    "| R2      | 0.6187 | 0.661789 |\n",
    "| Time Taken| 0.00688     |    8.343758"
   ]
  },
  {
   "cell_type": "markdown",
   "metadata": {},
   "source": [
    "### Model Testing\n",
    "\n",
    "\n",
    "\n",
    "\n"
   ]
  },
  {
   "cell_type": "markdown",
   "metadata": {},
   "source": [
    "#### Standardized Residual Vs Standardized Predicted Value for Each City on Price on Test Data"
   ]
  },
  {
   "cell_type": "markdown",
   "metadata": {},
   "source": [
    "<img src=\"./Plots/rome_resd_pred.png\" width=\"500\" height=\"500\" />\n"
   ]
  },
  {
   "cell_type": "markdown",
   "metadata": {},
   "source": [
    "<img src=\"./Plots/paris_resd_pred.png\" width=\"500\" height=\"500\" />\n"
   ]
  },
  {
   "cell_type": "markdown",
   "metadata": {},
   "source": [
    "<img src=\"./Plots/cop_resd_pred.png\" width=\"500\" height=\"500\" />\n"
   ]
  },
  {
   "cell_type": "markdown",
   "metadata": {},
   "source": [
    "<img src=\"./Plots/berlin_resd_pred.png\" width=\"500\" height=\"500\" />\n"
   ]
  },
  {
   "cell_type": "markdown",
   "metadata": {},
   "source": [
    "<img src=\"./Plots/bc_resd_pred.png\" width=\"500\" height=\"500\" />\n"
   ]
  },
  {
   "cell_type": "markdown",
   "metadata": {},
   "source": [
    "The plots above are pretty symmetrically distributed, tending to cluster towards the middle of the plot and none of them show any clear pattern. This strongly indicates that the model for each city is decently accurate and can be a good predictor for price per night in that city.\n",
    "\n",
    "Reference: http://docs.statwing.com/interpreting-residual-plots-to-improve-your-regression/#x-unbalanced-header"
   ]
  },
  {
   "cell_type": "markdown",
   "metadata": {},
   "source": [
    "#### Residual Plots for Each City on Price"
   ]
  },
  {
   "cell_type": "markdown",
   "metadata": {},
   "source": [
    "<img src=\"./Plots/rome_residual.png\" width=\"500\" height=\"500\" />\n"
   ]
  },
  {
   "cell_type": "markdown",
   "metadata": {},
   "source": [
    "<img src=\"./Plots/paris_residual.png\" width=\"500\" height=\"500\" />\n"
   ]
  },
  {
   "cell_type": "markdown",
   "metadata": {},
   "source": [
    "<img src=\"./Plots/cop_residual.png\" width=\"500\" height=\"500\" />\n"
   ]
  },
  {
   "cell_type": "markdown",
   "metadata": {},
   "source": [
    "<img src=\"./Plots/berlin_residual.png\" width=\"500\" height=\"500\" />\n"
   ]
  },
  {
   "cell_type": "markdown",
   "metadata": {},
   "source": [
    "<img src=\"./Plots/bc_residual.png\" width=\"500\" height=\"500\" />\n"
   ]
  },
  {
   "cell_type": "markdown",
   "metadata": {},
   "source": [
    "Residual = true_price - predicted_price\n",
    "\n",
    "From the above residual plot for each city on the test data, we observe that each plot follows the classic bell curve indicating that the residuals are almost normally distributed.This indicates that our model is decent and has room for improvement.\n",
    "We see that more than 50% of the residuals are centered around 0. This indicates that most of the predictions fall on the true price value with tail on either side.\n",
    "I believe that with larger dataset to train, we will be able to get rid of these side tails and make the plots tighter around zero."
   ]
  },
  {
   "cell_type": "markdown",
   "metadata": {},
   "source": [
    "#### Created an interactive Jupyter Notebook using ipywidgets to predict price with user input. The link to the notebook is here.\n",
    "\n",
    "The code file is [here](https://github.com/Jyojha/DS_Projects/blob/master/Underpriced_Properties_PerNeighborhood.ipynb)\n",
    "\n"
   ]
  },
  {
   "cell_type": "markdown",
   "metadata": {},
   "source": [
    "### Add-On\n",
    "\n",
    "The code file is [here](https://github.com/Jyojha/DS_Projects/blob/master/Interactive_PricePredictor.ipynb)\n",
    "\n",
    "\n",
    "- I used the Elastic Net Regularized model on the entire dataset for each city to get the price per night.\n",
    "\n",
    "\n",
    "- Then I Calculated the residual price from previous step and used the residual values to pull out the \"underpriced properties\" (according to the model above) in a specific neighborhood within a city. The underpriced properties were the ones where the predicted value is higher than the true value.\n",
    "\n",
    "\n",
    "\n"
   ]
  },
  {
   "cell_type": "markdown",
   "metadata": {},
   "source": [
    "### Web Interface"
   ]
  },
  {
   "cell_type": "markdown",
   "metadata": {},
   "source": [
    "Created a web interface where user can input the city, neighborhood, bedrooms, bathrooms, room_type to get the \"Price Per Night\" and also the price for underpriced properties."
   ]
  },
  {
   "cell_type": "markdown",
   "metadata": {},
   "source": [
    "<img src=\"./Plots/web_form.png\" width=\"800\" height=\"800\" />\n"
   ]
  },
  {
   "cell_type": "markdown",
   "metadata": {},
   "source": [
    "### Stretch Goals\n",
    "\n",
    "- Add more city specific features to the dataset like tourist spots, cultural and historic sites, neighborhood safety data, city events, and weather for improved model performance and prediciton.\n",
    "\n",
    "\n",
    "- Add other cities like London, New York City, Los Angeles, Tokyo, Sydney etc. to compare the price in each city and also to come up with factors that make each of them unique."
   ]
  }
 ],
 "metadata": {
  "anaconda-cloud": {},
  "kernelspec": {
   "display_name": "Python [conda env:dsi]",
   "language": "python",
   "name": "conda-env-dsi-py"
  },
  "language_info": {
   "codemirror_mode": {
    "name": "ipython",
    "version": 2
   },
   "file_extension": ".py",
   "mimetype": "text/x-python",
   "name": "python",
   "nbconvert_exporter": "python",
   "pygments_lexer": "ipython2",
   "version": "2.7.12"
  }
 },
 "nbformat": 4,
 "nbformat_minor": 1
}
